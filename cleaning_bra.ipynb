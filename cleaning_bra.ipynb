{
 "cells": [
  {
   "cell_type": "code",
   "execution_count": 59,
   "metadata": {},
   "outputs": [],
   "source": [
    "#Importamos las librerias pandas, numpy y matplotlib respectivamente\n",
    "import pandas as pd\n",
    "import numpy as np\n",
    "import matplotlib.pyplot as plt"
   ]
  },
  {
   "cell_type": "code",
   "execution_count": 60,
   "metadata": {},
   "outputs": [
    {
     "data": {
      "text/html": [
       "<div>\n",
       "<style scoped>\n",
       "    .dataframe tbody tr th:only-of-type {\n",
       "        vertical-align: middle;\n",
       "    }\n",
       "\n",
       "    .dataframe tbody tr th {\n",
       "        vertical-align: top;\n",
       "    }\n",
       "\n",
       "    .dataframe thead th {\n",
       "        text-align: right;\n",
       "    }\n",
       "</style>\n",
       "<table border=\"1\" class=\"dataframe\">\n",
       "  <thead>\n",
       "    <tr style=\"text-align: right;\">\n",
       "      <th></th>\n",
       "      <th>id</th>\n",
       "      <th>host_response_time</th>\n",
       "      <th>host_response_rate</th>\n",
       "      <th>host_acceptance_rate</th>\n",
       "      <th>host_is_superhost</th>\n",
       "      <th>host_listings_count</th>\n",
       "      <th>host_has_profile_pic</th>\n",
       "      <th>host_identity_verified</th>\n",
       "      <th>neighbourhood_cleansed</th>\n",
       "      <th>latitude</th>\n",
       "      <th>...</th>\n",
       "      <th>review_scores_rating</th>\n",
       "      <th>review_scores_accuracy</th>\n",
       "      <th>review_scores_cleanliness</th>\n",
       "      <th>review_scores_checkin</th>\n",
       "      <th>review_scores_communication</th>\n",
       "      <th>review_scores_location</th>\n",
       "      <th>review_scores_value</th>\n",
       "      <th>instant_bookable</th>\n",
       "      <th>calculated_host_listings_count</th>\n",
       "      <th>reviews_per_month</th>\n",
       "    </tr>\n",
       "  </thead>\n",
       "  <tbody>\n",
       "    <tr>\n",
       "      <th>0</th>\n",
       "      <td>1.596544e+07</td>\n",
       "      <td>within an hour</td>\n",
       "      <td>0.83</td>\n",
       "      <td>0.00</td>\n",
       "      <td>False</td>\n",
       "      <td>3.0</td>\n",
       "      <td>True</td>\n",
       "      <td>True</td>\n",
       "      <td>CocotÃ¡</td>\n",
       "      <td>-22.80630</td>\n",
       "      <td>...</td>\n",
       "      <td>NaN</td>\n",
       "      <td>NaN</td>\n",
       "      <td>NaN</td>\n",
       "      <td>NaN</td>\n",
       "      <td>NaN</td>\n",
       "      <td>NaN</td>\n",
       "      <td>NaN</td>\n",
       "      <td>False</td>\n",
       "      <td>3</td>\n",
       "      <td>NaN</td>\n",
       "    </tr>\n",
       "    <tr>\n",
       "      <th>1</th>\n",
       "      <td>4.790878e+07</td>\n",
       "      <td>within a day</td>\n",
       "      <td>0.50</td>\n",
       "      <td>1.00</td>\n",
       "      <td>False</td>\n",
       "      <td>1.0</td>\n",
       "      <td>True</td>\n",
       "      <td>False</td>\n",
       "      <td>Freguesia (JacarepaguÃ¡)</td>\n",
       "      <td>-22.93633</td>\n",
       "      <td>...</td>\n",
       "      <td>NaN</td>\n",
       "      <td>NaN</td>\n",
       "      <td>NaN</td>\n",
       "      <td>NaN</td>\n",
       "      <td>NaN</td>\n",
       "      <td>NaN</td>\n",
       "      <td>NaN</td>\n",
       "      <td>False</td>\n",
       "      <td>1</td>\n",
       "      <td>NaN</td>\n",
       "    </tr>\n",
       "    <tr>\n",
       "      <th>2</th>\n",
       "      <td>5.223961e+07</td>\n",
       "      <td>within a day</td>\n",
       "      <td>1.00</td>\n",
       "      <td>0.89</td>\n",
       "      <td>False</td>\n",
       "      <td>0.0</td>\n",
       "      <td>True</td>\n",
       "      <td>False</td>\n",
       "      <td>Curicica</td>\n",
       "      <td>-22.96253</td>\n",
       "      <td>...</td>\n",
       "      <td>5.00</td>\n",
       "      <td>5.00</td>\n",
       "      <td>5.00</td>\n",
       "      <td>4.89</td>\n",
       "      <td>4.78</td>\n",
       "      <td>4.78</td>\n",
       "      <td>4.89</td>\n",
       "      <td>False</td>\n",
       "      <td>1</td>\n",
       "      <td>1.16</td>\n",
       "    </tr>\n",
       "    <tr>\n",
       "      <th>3</th>\n",
       "      <td>1.044586e+07</td>\n",
       "      <td>within an hour</td>\n",
       "      <td>1.00</td>\n",
       "      <td>1.00</td>\n",
       "      <td>False</td>\n",
       "      <td>2.0</td>\n",
       "      <td>True</td>\n",
       "      <td>True</td>\n",
       "      <td>Vila Militar</td>\n",
       "      <td>-22.87969</td>\n",
       "      <td>...</td>\n",
       "      <td>4.78</td>\n",
       "      <td>4.91</td>\n",
       "      <td>4.89</td>\n",
       "      <td>4.93</td>\n",
       "      <td>4.87</td>\n",
       "      <td>4.70</td>\n",
       "      <td>4.57</td>\n",
       "      <td>False</td>\n",
       "      <td>1</td>\n",
       "      <td>0.64</td>\n",
       "    </tr>\n",
       "    <tr>\n",
       "      <th>4</th>\n",
       "      <td>5.650000e+17</td>\n",
       "      <td>within an hour</td>\n",
       "      <td>1.00</td>\n",
       "      <td>0.67</td>\n",
       "      <td>False</td>\n",
       "      <td>0.0</td>\n",
       "      <td>True</td>\n",
       "      <td>True</td>\n",
       "      <td>Del Castilho</td>\n",
       "      <td>-22.88168</td>\n",
       "      <td>...</td>\n",
       "      <td>NaN</td>\n",
       "      <td>NaN</td>\n",
       "      <td>NaN</td>\n",
       "      <td>NaN</td>\n",
       "      <td>NaN</td>\n",
       "      <td>NaN</td>\n",
       "      <td>NaN</td>\n",
       "      <td>False</td>\n",
       "      <td>2</td>\n",
       "      <td>NaN</td>\n",
       "    </tr>\n",
       "    <tr>\n",
       "      <th>...</th>\n",
       "      <td>...</td>\n",
       "      <td>...</td>\n",
       "      <td>...</td>\n",
       "      <td>...</td>\n",
       "      <td>...</td>\n",
       "      <td>...</td>\n",
       "      <td>...</td>\n",
       "      <td>...</td>\n",
       "      <td>...</td>\n",
       "      <td>...</td>\n",
       "      <td>...</td>\n",
       "      <td>...</td>\n",
       "      <td>...</td>\n",
       "      <td>...</td>\n",
       "      <td>...</td>\n",
       "      <td>...</td>\n",
       "      <td>...</td>\n",
       "      <td>...</td>\n",
       "      <td>...</td>\n",
       "      <td>...</td>\n",
       "      <td>...</td>\n",
       "    </tr>\n",
       "    <tr>\n",
       "      <th>24875</th>\n",
       "      <td>6.030000e+17</td>\n",
       "      <td>within a day</td>\n",
       "      <td>1.00</td>\n",
       "      <td>0.00</td>\n",
       "      <td>False</td>\n",
       "      <td>1.0</td>\n",
       "      <td>True</td>\n",
       "      <td>True</td>\n",
       "      <td>Santa Teresa</td>\n",
       "      <td>-22.92152</td>\n",
       "      <td>...</td>\n",
       "      <td>NaN</td>\n",
       "      <td>NaN</td>\n",
       "      <td>NaN</td>\n",
       "      <td>NaN</td>\n",
       "      <td>NaN</td>\n",
       "      <td>NaN</td>\n",
       "      <td>NaN</td>\n",
       "      <td>False</td>\n",
       "      <td>1</td>\n",
       "      <td>NaN</td>\n",
       "    </tr>\n",
       "    <tr>\n",
       "      <th>24876</th>\n",
       "      <td>5.418363e+07</td>\n",
       "      <td>within a few hours</td>\n",
       "      <td>1.00</td>\n",
       "      <td>0.98</td>\n",
       "      <td>False</td>\n",
       "      <td>0.0</td>\n",
       "      <td>True</td>\n",
       "      <td>True</td>\n",
       "      <td>Camorim</td>\n",
       "      <td>-22.97643</td>\n",
       "      <td>...</td>\n",
       "      <td>3.75</td>\n",
       "      <td>4.75</td>\n",
       "      <td>5.00</td>\n",
       "      <td>4.25</td>\n",
       "      <td>3.50</td>\n",
       "      <td>4.75</td>\n",
       "      <td>3.75</td>\n",
       "      <td>False</td>\n",
       "      <td>16</td>\n",
       "      <td>0.78</td>\n",
       "    </tr>\n",
       "    <tr>\n",
       "      <th>24877</th>\n",
       "      <td>2.303349e+07</td>\n",
       "      <td>within an hour</td>\n",
       "      <td>1.00</td>\n",
       "      <td>0.98</td>\n",
       "      <td>True</td>\n",
       "      <td>3.0</td>\n",
       "      <td>True</td>\n",
       "      <td>True</td>\n",
       "      <td>Leme</td>\n",
       "      <td>-22.96449</td>\n",
       "      <td>...</td>\n",
       "      <td>4.92</td>\n",
       "      <td>4.97</td>\n",
       "      <td>4.92</td>\n",
       "      <td>4.98</td>\n",
       "      <td>4.98</td>\n",
       "      <td>5.00</td>\n",
       "      <td>4.94</td>\n",
       "      <td>False</td>\n",
       "      <td>3</td>\n",
       "      <td>1.47</td>\n",
       "    </tr>\n",
       "    <tr>\n",
       "      <th>24878</th>\n",
       "      <td>2.341248e+06</td>\n",
       "      <td>a few days or more</td>\n",
       "      <td>0.00</td>\n",
       "      <td>1.00</td>\n",
       "      <td>False</td>\n",
       "      <td>1.0</td>\n",
       "      <td>True</td>\n",
       "      <td>False</td>\n",
       "      <td>Botafogo</td>\n",
       "      <td>-22.95310</td>\n",
       "      <td>...</td>\n",
       "      <td>4.50</td>\n",
       "      <td>4.83</td>\n",
       "      <td>4.17</td>\n",
       "      <td>4.83</td>\n",
       "      <td>5.00</td>\n",
       "      <td>4.67</td>\n",
       "      <td>4.33</td>\n",
       "      <td>False</td>\n",
       "      <td>1</td>\n",
       "      <td>0.10</td>\n",
       "    </tr>\n",
       "    <tr>\n",
       "      <th>24879</th>\n",
       "      <td>2.677551e+07</td>\n",
       "      <td>within an hour</td>\n",
       "      <td>1.00</td>\n",
       "      <td>0.90</td>\n",
       "      <td>True</td>\n",
       "      <td>8.0</td>\n",
       "      <td>True</td>\n",
       "      <td>False</td>\n",
       "      <td>Santa Teresa</td>\n",
       "      <td>-22.92075</td>\n",
       "      <td>...</td>\n",
       "      <td>5.00</td>\n",
       "      <td>5.00</td>\n",
       "      <td>4.73</td>\n",
       "      <td>4.91</td>\n",
       "      <td>5.00</td>\n",
       "      <td>4.91</td>\n",
       "      <td>5.00</td>\n",
       "      <td>False</td>\n",
       "      <td>9</td>\n",
       "      <td>0.24</td>\n",
       "    </tr>\n",
       "  </tbody>\n",
       "</table>\n",
       "<p>24880 rows × 32 columns</p>\n",
       "</div>"
      ],
      "text/plain": [
       "                 id  host_response_time  host_response_rate  \\\n",
       "0      1.596544e+07      within an hour                0.83   \n",
       "1      4.790878e+07        within a day                0.50   \n",
       "2      5.223961e+07        within a day                1.00   \n",
       "3      1.044586e+07      within an hour                1.00   \n",
       "4      5.650000e+17      within an hour                1.00   \n",
       "...             ...                 ...                 ...   \n",
       "24875  6.030000e+17        within a day                1.00   \n",
       "24876  5.418363e+07  within a few hours                1.00   \n",
       "24877  2.303349e+07      within an hour                1.00   \n",
       "24878  2.341248e+06  a few days or more                0.00   \n",
       "24879  2.677551e+07      within an hour                1.00   \n",
       "\n",
       "       host_acceptance_rate host_is_superhost  host_listings_count  \\\n",
       "0                      0.00             False                  3.0   \n",
       "1                      1.00             False                  1.0   \n",
       "2                      0.89             False                  0.0   \n",
       "3                      1.00             False                  2.0   \n",
       "4                      0.67             False                  0.0   \n",
       "...                     ...               ...                  ...   \n",
       "24875                  0.00             False                  1.0   \n",
       "24876                  0.98             False                  0.0   \n",
       "24877                  0.98              True                  3.0   \n",
       "24878                  1.00             False                  1.0   \n",
       "24879                  0.90              True                  8.0   \n",
       "\n",
       "      host_has_profile_pic host_identity_verified    neighbourhood_cleansed  \\\n",
       "0                     True                   True                   CocotÃ¡   \n",
       "1                     True                  False  Freguesia (JacarepaguÃ¡)   \n",
       "2                     True                  False                  Curicica   \n",
       "3                     True                   True              Vila Militar   \n",
       "4                     True                   True              Del Castilho   \n",
       "...                    ...                    ...                       ...   \n",
       "24875                 True                   True              Santa Teresa   \n",
       "24876                 True                   True                   Camorim   \n",
       "24877                 True                   True                      Leme   \n",
       "24878                 True                  False                  Botafogo   \n",
       "24879                 True                  False              Santa Teresa   \n",
       "\n",
       "       latitude  ...  review_scores_rating review_scores_accuracy  \\\n",
       "0     -22.80630  ...                   NaN                    NaN   \n",
       "1     -22.93633  ...                   NaN                    NaN   \n",
       "2     -22.96253  ...                  5.00                   5.00   \n",
       "3     -22.87969  ...                  4.78                   4.91   \n",
       "4     -22.88168  ...                   NaN                    NaN   \n",
       "...         ...  ...                   ...                    ...   \n",
       "24875 -22.92152  ...                   NaN                    NaN   \n",
       "24876 -22.97643  ...                  3.75                   4.75   \n",
       "24877 -22.96449  ...                  4.92                   4.97   \n",
       "24878 -22.95310  ...                  4.50                   4.83   \n",
       "24879 -22.92075  ...                  5.00                   5.00   \n",
       "\n",
       "       review_scores_cleanliness  review_scores_checkin  \\\n",
       "0                            NaN                    NaN   \n",
       "1                            NaN                    NaN   \n",
       "2                           5.00                   4.89   \n",
       "3                           4.89                   4.93   \n",
       "4                            NaN                    NaN   \n",
       "...                          ...                    ...   \n",
       "24875                        NaN                    NaN   \n",
       "24876                       5.00                   4.25   \n",
       "24877                       4.92                   4.98   \n",
       "24878                       4.17                   4.83   \n",
       "24879                       4.73                   4.91   \n",
       "\n",
       "       review_scores_communication  review_scores_location  \\\n",
       "0                              NaN                     NaN   \n",
       "1                              NaN                     NaN   \n",
       "2                             4.78                    4.78   \n",
       "3                             4.87                    4.70   \n",
       "4                              NaN                     NaN   \n",
       "...                            ...                     ...   \n",
       "24875                          NaN                     NaN   \n",
       "24876                         3.50                    4.75   \n",
       "24877                         4.98                    5.00   \n",
       "24878                         5.00                    4.67   \n",
       "24879                         5.00                    4.91   \n",
       "\n",
       "       review_scores_value  instant_bookable  calculated_host_listings_count  \\\n",
       "0                      NaN             False                               3   \n",
       "1                      NaN             False                               1   \n",
       "2                     4.89             False                               1   \n",
       "3                     4.57             False                               1   \n",
       "4                      NaN             False                               2   \n",
       "...                    ...               ...                             ...   \n",
       "24875                  NaN             False                               1   \n",
       "24876                 3.75             False                              16   \n",
       "24877                 4.94             False                               3   \n",
       "24878                 4.33             False                               1   \n",
       "24879                 5.00             False                               9   \n",
       "\n",
       "       reviews_per_month  \n",
       "0                    NaN  \n",
       "1                    NaN  \n",
       "2                   1.16  \n",
       "3                   0.64  \n",
       "4                    NaN  \n",
       "...                  ...  \n",
       "24875                NaN  \n",
       "24876               0.78  \n",
       "24877               1.47  \n",
       "24878               0.10  \n",
       "24879               0.24  \n",
       "\n",
       "[24880 rows x 32 columns]"
      ]
     },
     "execution_count": 60,
     "metadata": {},
     "output_type": "execute_result"
    }
   ],
   "source": [
    "#Carga del archivo.csv\n",
    "data = pd.read_csv(\"listings_bra.csv\",encoding=\"ISO-8859-1\") #, index_col=0\n",
    "data"
   ]
  },
  {
   "cell_type": "markdown",
   "metadata": {},
   "source": [
    "Reemplazo de nulos"
   ]
  },
  {
   "cell_type": "code",
   "execution_count": 61,
   "metadata": {},
   "outputs": [
    {
     "data": {
      "text/html": [
       "<div>\n",
       "<style scoped>\n",
       "    .dataframe tbody tr th:only-of-type {\n",
       "        vertical-align: middle;\n",
       "    }\n",
       "\n",
       "    .dataframe tbody tr th {\n",
       "        vertical-align: top;\n",
       "    }\n",
       "\n",
       "    .dataframe thead th {\n",
       "        text-align: right;\n",
       "    }\n",
       "</style>\n",
       "<table border=\"1\" class=\"dataframe\">\n",
       "  <thead>\n",
       "    <tr style=\"text-align: right;\">\n",
       "      <th></th>\n",
       "      <th>id</th>\n",
       "      <th>host_response_time</th>\n",
       "      <th>host_response_rate</th>\n",
       "      <th>host_acceptance_rate</th>\n",
       "      <th>host_is_superhost</th>\n",
       "      <th>host_listings_count</th>\n",
       "      <th>host_has_profile_pic</th>\n",
       "      <th>host_identity_verified</th>\n",
       "      <th>neighbourhood_cleansed</th>\n",
       "      <th>latitude</th>\n",
       "      <th>...</th>\n",
       "      <th>review_scores_rating</th>\n",
       "      <th>review_scores_accuracy</th>\n",
       "      <th>review_scores_cleanliness</th>\n",
       "      <th>review_scores_checkin</th>\n",
       "      <th>review_scores_communication</th>\n",
       "      <th>review_scores_location</th>\n",
       "      <th>review_scores_value</th>\n",
       "      <th>instant_bookable</th>\n",
       "      <th>calculated_host_listings_count</th>\n",
       "      <th>reviews_per_month</th>\n",
       "    </tr>\n",
       "  </thead>\n",
       "  <tbody>\n",
       "    <tr>\n",
       "      <th>0</th>\n",
       "      <td>1.596544e+07</td>\n",
       "      <td>within an hour</td>\n",
       "      <td>0.83</td>\n",
       "      <td>0.00</td>\n",
       "      <td>False</td>\n",
       "      <td>3.0</td>\n",
       "      <td>True</td>\n",
       "      <td>True</td>\n",
       "      <td>CocotÃ¡</td>\n",
       "      <td>-22.80630</td>\n",
       "      <td>...</td>\n",
       "      <td>NaN</td>\n",
       "      <td>NaN</td>\n",
       "      <td>NaN</td>\n",
       "      <td>NaN</td>\n",
       "      <td>NaN</td>\n",
       "      <td>NaN</td>\n",
       "      <td>NaN</td>\n",
       "      <td>False</td>\n",
       "      <td>3</td>\n",
       "      <td>NaN</td>\n",
       "    </tr>\n",
       "    <tr>\n",
       "      <th>1</th>\n",
       "      <td>4.790878e+07</td>\n",
       "      <td>within a day</td>\n",
       "      <td>0.50</td>\n",
       "      <td>1.00</td>\n",
       "      <td>False</td>\n",
       "      <td>1.0</td>\n",
       "      <td>True</td>\n",
       "      <td>False</td>\n",
       "      <td>Freguesia (JacarepaguÃ¡)</td>\n",
       "      <td>-22.93633</td>\n",
       "      <td>...</td>\n",
       "      <td>NaN</td>\n",
       "      <td>NaN</td>\n",
       "      <td>NaN</td>\n",
       "      <td>NaN</td>\n",
       "      <td>NaN</td>\n",
       "      <td>NaN</td>\n",
       "      <td>NaN</td>\n",
       "      <td>False</td>\n",
       "      <td>1</td>\n",
       "      <td>NaN</td>\n",
       "    </tr>\n",
       "    <tr>\n",
       "      <th>2</th>\n",
       "      <td>5.223961e+07</td>\n",
       "      <td>within a day</td>\n",
       "      <td>1.00</td>\n",
       "      <td>0.89</td>\n",
       "      <td>False</td>\n",
       "      <td>0.0</td>\n",
       "      <td>True</td>\n",
       "      <td>False</td>\n",
       "      <td>Curicica</td>\n",
       "      <td>-22.96253</td>\n",
       "      <td>...</td>\n",
       "      <td>5.00</td>\n",
       "      <td>5.00</td>\n",
       "      <td>5.00</td>\n",
       "      <td>4.89</td>\n",
       "      <td>4.78</td>\n",
       "      <td>4.78</td>\n",
       "      <td>4.89</td>\n",
       "      <td>False</td>\n",
       "      <td>1</td>\n",
       "      <td>1.16</td>\n",
       "    </tr>\n",
       "    <tr>\n",
       "      <th>3</th>\n",
       "      <td>1.044586e+07</td>\n",
       "      <td>within an hour</td>\n",
       "      <td>1.00</td>\n",
       "      <td>1.00</td>\n",
       "      <td>False</td>\n",
       "      <td>2.0</td>\n",
       "      <td>True</td>\n",
       "      <td>True</td>\n",
       "      <td>Vila Militar</td>\n",
       "      <td>-22.87969</td>\n",
       "      <td>...</td>\n",
       "      <td>4.78</td>\n",
       "      <td>4.91</td>\n",
       "      <td>4.89</td>\n",
       "      <td>4.93</td>\n",
       "      <td>4.87</td>\n",
       "      <td>4.70</td>\n",
       "      <td>4.57</td>\n",
       "      <td>False</td>\n",
       "      <td>1</td>\n",
       "      <td>0.64</td>\n",
       "    </tr>\n",
       "    <tr>\n",
       "      <th>4</th>\n",
       "      <td>5.650000e+17</td>\n",
       "      <td>within an hour</td>\n",
       "      <td>1.00</td>\n",
       "      <td>0.67</td>\n",
       "      <td>False</td>\n",
       "      <td>0.0</td>\n",
       "      <td>True</td>\n",
       "      <td>True</td>\n",
       "      <td>Del Castilho</td>\n",
       "      <td>-22.88168</td>\n",
       "      <td>...</td>\n",
       "      <td>NaN</td>\n",
       "      <td>NaN</td>\n",
       "      <td>NaN</td>\n",
       "      <td>NaN</td>\n",
       "      <td>NaN</td>\n",
       "      <td>NaN</td>\n",
       "      <td>NaN</td>\n",
       "      <td>False</td>\n",
       "      <td>2</td>\n",
       "      <td>NaN</td>\n",
       "    </tr>\n",
       "    <tr>\n",
       "      <th>...</th>\n",
       "      <td>...</td>\n",
       "      <td>...</td>\n",
       "      <td>...</td>\n",
       "      <td>...</td>\n",
       "      <td>...</td>\n",
       "      <td>...</td>\n",
       "      <td>...</td>\n",
       "      <td>...</td>\n",
       "      <td>...</td>\n",
       "      <td>...</td>\n",
       "      <td>...</td>\n",
       "      <td>...</td>\n",
       "      <td>...</td>\n",
       "      <td>...</td>\n",
       "      <td>...</td>\n",
       "      <td>...</td>\n",
       "      <td>...</td>\n",
       "      <td>...</td>\n",
       "      <td>...</td>\n",
       "      <td>...</td>\n",
       "      <td>...</td>\n",
       "    </tr>\n",
       "    <tr>\n",
       "      <th>24875</th>\n",
       "      <td>6.030000e+17</td>\n",
       "      <td>within a day</td>\n",
       "      <td>1.00</td>\n",
       "      <td>0.00</td>\n",
       "      <td>False</td>\n",
       "      <td>1.0</td>\n",
       "      <td>True</td>\n",
       "      <td>True</td>\n",
       "      <td>Santa Teresa</td>\n",
       "      <td>-22.92152</td>\n",
       "      <td>...</td>\n",
       "      <td>NaN</td>\n",
       "      <td>NaN</td>\n",
       "      <td>NaN</td>\n",
       "      <td>NaN</td>\n",
       "      <td>NaN</td>\n",
       "      <td>NaN</td>\n",
       "      <td>NaN</td>\n",
       "      <td>False</td>\n",
       "      <td>1</td>\n",
       "      <td>NaN</td>\n",
       "    </tr>\n",
       "    <tr>\n",
       "      <th>24876</th>\n",
       "      <td>5.418363e+07</td>\n",
       "      <td>within a few hours</td>\n",
       "      <td>1.00</td>\n",
       "      <td>0.98</td>\n",
       "      <td>False</td>\n",
       "      <td>0.0</td>\n",
       "      <td>True</td>\n",
       "      <td>True</td>\n",
       "      <td>Camorim</td>\n",
       "      <td>-22.97643</td>\n",
       "      <td>...</td>\n",
       "      <td>3.75</td>\n",
       "      <td>4.75</td>\n",
       "      <td>5.00</td>\n",
       "      <td>4.25</td>\n",
       "      <td>3.50</td>\n",
       "      <td>4.75</td>\n",
       "      <td>3.75</td>\n",
       "      <td>False</td>\n",
       "      <td>16</td>\n",
       "      <td>0.78</td>\n",
       "    </tr>\n",
       "    <tr>\n",
       "      <th>24877</th>\n",
       "      <td>2.303349e+07</td>\n",
       "      <td>within an hour</td>\n",
       "      <td>1.00</td>\n",
       "      <td>0.98</td>\n",
       "      <td>True</td>\n",
       "      <td>3.0</td>\n",
       "      <td>True</td>\n",
       "      <td>True</td>\n",
       "      <td>Leme</td>\n",
       "      <td>-22.96449</td>\n",
       "      <td>...</td>\n",
       "      <td>4.92</td>\n",
       "      <td>4.97</td>\n",
       "      <td>4.92</td>\n",
       "      <td>4.98</td>\n",
       "      <td>4.98</td>\n",
       "      <td>5.00</td>\n",
       "      <td>4.94</td>\n",
       "      <td>False</td>\n",
       "      <td>3</td>\n",
       "      <td>1.47</td>\n",
       "    </tr>\n",
       "    <tr>\n",
       "      <th>24878</th>\n",
       "      <td>2.341248e+06</td>\n",
       "      <td>a few days or more</td>\n",
       "      <td>0.00</td>\n",
       "      <td>1.00</td>\n",
       "      <td>False</td>\n",
       "      <td>1.0</td>\n",
       "      <td>True</td>\n",
       "      <td>False</td>\n",
       "      <td>Botafogo</td>\n",
       "      <td>-22.95310</td>\n",
       "      <td>...</td>\n",
       "      <td>4.50</td>\n",
       "      <td>4.83</td>\n",
       "      <td>4.17</td>\n",
       "      <td>4.83</td>\n",
       "      <td>5.00</td>\n",
       "      <td>4.67</td>\n",
       "      <td>4.33</td>\n",
       "      <td>False</td>\n",
       "      <td>1</td>\n",
       "      <td>0.10</td>\n",
       "    </tr>\n",
       "    <tr>\n",
       "      <th>24879</th>\n",
       "      <td>2.677551e+07</td>\n",
       "      <td>within an hour</td>\n",
       "      <td>1.00</td>\n",
       "      <td>0.90</td>\n",
       "      <td>True</td>\n",
       "      <td>8.0</td>\n",
       "      <td>True</td>\n",
       "      <td>False</td>\n",
       "      <td>Santa Teresa</td>\n",
       "      <td>-22.92075</td>\n",
       "      <td>...</td>\n",
       "      <td>5.00</td>\n",
       "      <td>5.00</td>\n",
       "      <td>4.73</td>\n",
       "      <td>4.91</td>\n",
       "      <td>5.00</td>\n",
       "      <td>4.91</td>\n",
       "      <td>5.00</td>\n",
       "      <td>False</td>\n",
       "      <td>9</td>\n",
       "      <td>0.24</td>\n",
       "    </tr>\n",
       "  </tbody>\n",
       "</table>\n",
       "<p>24880 rows × 32 columns</p>\n",
       "</div>"
      ],
      "text/plain": [
       "                 id  host_response_time  host_response_rate  \\\n",
       "0      1.596544e+07      within an hour                0.83   \n",
       "1      4.790878e+07        within a day                0.50   \n",
       "2      5.223961e+07        within a day                1.00   \n",
       "3      1.044586e+07      within an hour                1.00   \n",
       "4      5.650000e+17      within an hour                1.00   \n",
       "...             ...                 ...                 ...   \n",
       "24875  6.030000e+17        within a day                1.00   \n",
       "24876  5.418363e+07  within a few hours                1.00   \n",
       "24877  2.303349e+07      within an hour                1.00   \n",
       "24878  2.341248e+06  a few days or more                0.00   \n",
       "24879  2.677551e+07      within an hour                1.00   \n",
       "\n",
       "       host_acceptance_rate host_is_superhost  host_listings_count  \\\n",
       "0                      0.00             False                  3.0   \n",
       "1                      1.00             False                  1.0   \n",
       "2                      0.89             False                  0.0   \n",
       "3                      1.00             False                  2.0   \n",
       "4                      0.67             False                  0.0   \n",
       "...                     ...               ...                  ...   \n",
       "24875                  0.00             False                  1.0   \n",
       "24876                  0.98             False                  0.0   \n",
       "24877                  0.98              True                  3.0   \n",
       "24878                  1.00             False                  1.0   \n",
       "24879                  0.90              True                  8.0   \n",
       "\n",
       "      host_has_profile_pic host_identity_verified    neighbourhood_cleansed  \\\n",
       "0                     True                   True                   CocotÃ¡   \n",
       "1                     True                  False  Freguesia (JacarepaguÃ¡)   \n",
       "2                     True                  False                  Curicica   \n",
       "3                     True                   True              Vila Militar   \n",
       "4                     True                   True              Del Castilho   \n",
       "...                    ...                    ...                       ...   \n",
       "24875                 True                   True              Santa Teresa   \n",
       "24876                 True                   True                   Camorim   \n",
       "24877                 True                   True                      Leme   \n",
       "24878                 True                  False                  Botafogo   \n",
       "24879                 True                  False              Santa Teresa   \n",
       "\n",
       "       latitude  ...  review_scores_rating review_scores_accuracy  \\\n",
       "0     -22.80630  ...                   NaN                    NaN   \n",
       "1     -22.93633  ...                   NaN                    NaN   \n",
       "2     -22.96253  ...                  5.00                   5.00   \n",
       "3     -22.87969  ...                  4.78                   4.91   \n",
       "4     -22.88168  ...                   NaN                    NaN   \n",
       "...         ...  ...                   ...                    ...   \n",
       "24875 -22.92152  ...                   NaN                    NaN   \n",
       "24876 -22.97643  ...                  3.75                   4.75   \n",
       "24877 -22.96449  ...                  4.92                   4.97   \n",
       "24878 -22.95310  ...                  4.50                   4.83   \n",
       "24879 -22.92075  ...                  5.00                   5.00   \n",
       "\n",
       "       review_scores_cleanliness  review_scores_checkin  \\\n",
       "0                            NaN                    NaN   \n",
       "1                            NaN                    NaN   \n",
       "2                           5.00                   4.89   \n",
       "3                           4.89                   4.93   \n",
       "4                            NaN                    NaN   \n",
       "...                          ...                    ...   \n",
       "24875                        NaN                    NaN   \n",
       "24876                       5.00                   4.25   \n",
       "24877                       4.92                   4.98   \n",
       "24878                       4.17                   4.83   \n",
       "24879                       4.73                   4.91   \n",
       "\n",
       "       review_scores_communication  review_scores_location  \\\n",
       "0                              NaN                     NaN   \n",
       "1                              NaN                     NaN   \n",
       "2                             4.78                    4.78   \n",
       "3                             4.87                    4.70   \n",
       "4                              NaN                     NaN   \n",
       "...                            ...                     ...   \n",
       "24875                          NaN                     NaN   \n",
       "24876                         3.50                    4.75   \n",
       "24877                         4.98                    5.00   \n",
       "24878                         5.00                    4.67   \n",
       "24879                         5.00                    4.91   \n",
       "\n",
       "       review_scores_value  instant_bookable  calculated_host_listings_count  \\\n",
       "0                      NaN             False                               3   \n",
       "1                      NaN             False                               1   \n",
       "2                     4.89             False                               1   \n",
       "3                     4.57             False                               1   \n",
       "4                      NaN             False                               2   \n",
       "...                    ...               ...                             ...   \n",
       "24875                  NaN             False                               1   \n",
       "24876                 3.75             False                              16   \n",
       "24877                 4.94             False                               3   \n",
       "24878                 4.33             False                               1   \n",
       "24879                 5.00             False                               9   \n",
       "\n",
       "       reviews_per_month  \n",
       "0                    NaN  \n",
       "1                    NaN  \n",
       "2                   1.16  \n",
       "3                   0.64  \n",
       "4                    NaN  \n",
       "...                  ...  \n",
       "24875                NaN  \n",
       "24876               0.78  \n",
       "24877               1.47  \n",
       "24878               0.10  \n",
       "24879               0.24  \n",
       "\n",
       "[24880 rows x 32 columns]"
      ]
     },
     "execution_count": 61,
     "metadata": {},
     "output_type": "execute_result"
    }
   ],
   "source": [
    "#Copia del dataset original\n",
    "data2 = data.copy()\n",
    "data2"
   ]
  },
  {
   "cell_type": "code",
   "execution_count": 62,
   "metadata": {},
   "outputs": [
    {
     "data": {
      "text/plain": [
       "id                                   0\n",
       "host_response_time                 117\n",
       "host_response_rate                 117\n",
       "host_acceptance_rate               117\n",
       "host_is_superhost                  117\n",
       "host_listings_count                117\n",
       "host_has_profile_pic               117\n",
       "host_identity_verified             117\n",
       "neighbourhood_cleansed               0\n",
       "latitude                             0\n",
       "longitude                            0\n",
       "room_type                            0\n",
       "accommodates                         0\n",
       "bathroom_text                       53\n",
       "bedrooms                          1368\n",
       "beds                               251\n",
       "price                                0\n",
       "minimum_nights                       0\n",
       "maximum_nights                       0\n",
       "availability_365                     0\n",
       "number_of_reviews                    0\n",
       "number_of_reviews_ltm                0\n",
       "review_scores_rating              7667\n",
       "review_scores_accuracy            7929\n",
       "review_scores_cleanliness         7929\n",
       "review_scores_checkin             7929\n",
       "review_scores_communication       7929\n",
       "review_scores_location            7930\n",
       "review_scores_value               7929\n",
       "instant_bookable                     0\n",
       "calculated_host_listings_count       0\n",
       "reviews_per_month                 7667\n",
       "dtype: int64"
      ]
     },
     "execution_count": 62,
     "metadata": {},
     "output_type": "execute_result"
    }
   ],
   "source": [
    "#Cuántos nulos hay por columna\n",
    "valores_nulos=data2.isnull().sum()\n",
    "valores_nulos"
   ]
  },
  {
   "cell_type": "code",
   "execution_count": 63,
   "metadata": {},
   "outputs": [],
   "source": [
    "#Rellenar con el string \"Unknown\"\n",
    "data2[\"host_response_time\"]=data2[\"host_response_time\"].fillna(\"unknown\")"
   ]
  },
  {
   "cell_type": "code",
   "execution_count": 64,
   "metadata": {},
   "outputs": [],
   "source": [
    "#Rellenar con el valor numérico 0\n",
    "data2[\"host_response_rate\"]=data2[\"host_response_rate\"].fillna(0)\n",
    "data2[\"host_acceptance_rate\"]=data2[\"host_acceptance_rate\"].fillna(0)\n",
    "data2[\"host_listings_count\"]=data2[\"host_listings_count\"].fillna(0)\n",
    "data2[\"beds\"]=data2[\"beds\"].fillna(0)\n",
    "data2[\"reviews_per_month\"]=data2[\"reviews_per_month\"].fillna(0)"
   ]
  },
  {
   "cell_type": "code",
   "execution_count": 65,
   "metadata": {},
   "outputs": [],
   "source": [
    "#Rellenar con la media\n",
    "data2[\"review_scores_rating\"]=data2[\"review_scores_rating\"].fillna(round(data[\"review_scores_rating\"].mean(),2))\n",
    "data2[\"review_scores_accuracy\"]=data2[\"review_scores_accuracy\"].fillna(round(data[\"review_scores_accuracy\"].mean(),2))\n",
    "data2[\"review_scores_cleanliness\"]=data2[\"review_scores_cleanliness\"].fillna(round(data[\"review_scores_cleanliness\"].mean(),2))\n",
    "data2[\"review_scores_checkin\"]=data2[\"review_scores_checkin\"].fillna(round(data[\"review_scores_checkin\"].mean(),2))\n",
    "data2[\"review_scores_communication\"]=data2[\"review_scores_communication\"].fillna(round(data[\"review_scores_communication\"].mean(),2))\n",
    "data2[\"review_scores_location\"]=data2[\"review_scores_location\"].fillna(round(data[\"review_scores_location\"].mean(),2))\n",
    "data2[\"review_scores_value\"]=data2[\"review_scores_value\"].fillna(round(data[\"review_scores_value\"].mean(),2))\n",
    "data2[\"bathroom_text\"]=data2[\"bathroom_text\"].fillna(round(data[\"bathroom_text\"].mean(),0))\n",
    "data2[\"bedrooms\"]=data2[\"bedrooms\"].fillna(round(data[\"bedrooms\"].mean(),0))\n"
   ]
  },
  {
   "cell_type": "code",
   "execution_count": 66,
   "metadata": {},
   "outputs": [],
   "source": [
    "#Rellenar con el string \"False\"\n",
    "data2[\"host_is_superhost\"]=data2[\"host_is_superhost\"].fillna(\"False\")\n",
    "data2[\"host_has_profile_pic\"]=data2[\"host_has_profile_pic\"].fillna(\"False\")\n",
    "data2[\"host_identity_verified\"]=data2[\"host_identity_verified\"].fillna(\"False\")"
   ]
  },
  {
   "cell_type": "code",
   "execution_count": 67,
   "metadata": {},
   "outputs": [
    {
     "data": {
      "text/plain": [
       "0"
      ]
     },
     "execution_count": 67,
     "metadata": {},
     "output_type": "execute_result"
    }
   ],
   "source": [
    "#Comprobación de sustitución de nulos\n",
    "#Cuántos nulos hay en el dataframe\n",
    "valores_nulos=data2.isnull().sum().sum()\n",
    "valores_nulos"
   ]
  },
  {
   "cell_type": "markdown",
   "metadata": {},
   "source": [
    "Limpieza de outliers"
   ]
  },
  {
   "cell_type": "code",
   "execution_count": 68,
   "metadata": {},
   "outputs": [
    {
     "data": {
      "text/html": [
       "<div>\n",
       "<style scoped>\n",
       "    .dataframe tbody tr th:only-of-type {\n",
       "        vertical-align: middle;\n",
       "    }\n",
       "\n",
       "    .dataframe tbody tr th {\n",
       "        vertical-align: top;\n",
       "    }\n",
       "\n",
       "    .dataframe thead th {\n",
       "        text-align: right;\n",
       "    }\n",
       "</style>\n",
       "<table border=\"1\" class=\"dataframe\">\n",
       "  <thead>\n",
       "    <tr style=\"text-align: right;\">\n",
       "      <th></th>\n",
       "      <th>id</th>\n",
       "      <th>host_response_time</th>\n",
       "      <th>host_response_rate</th>\n",
       "      <th>host_acceptance_rate</th>\n",
       "      <th>host_is_superhost</th>\n",
       "      <th>host_listings_count</th>\n",
       "      <th>host_has_profile_pic</th>\n",
       "      <th>host_identity_verified</th>\n",
       "      <th>neighbourhood_cleansed</th>\n",
       "      <th>latitude</th>\n",
       "      <th>...</th>\n",
       "      <th>review_scores_rating</th>\n",
       "      <th>review_scores_accuracy</th>\n",
       "      <th>review_scores_cleanliness</th>\n",
       "      <th>review_scores_checkin</th>\n",
       "      <th>review_scores_communication</th>\n",
       "      <th>review_scores_location</th>\n",
       "      <th>review_scores_value</th>\n",
       "      <th>instant_bookable</th>\n",
       "      <th>calculated_host_listings_count</th>\n",
       "      <th>reviews_per_month</th>\n",
       "    </tr>\n",
       "  </thead>\n",
       "  <tbody>\n",
       "    <tr>\n",
       "      <th>0</th>\n",
       "      <td>1.596544e+07</td>\n",
       "      <td>within an hour</td>\n",
       "      <td>0.83</td>\n",
       "      <td>0.00</td>\n",
       "      <td>False</td>\n",
       "      <td>3.0</td>\n",
       "      <td>True</td>\n",
       "      <td>True</td>\n",
       "      <td>CocotÃ¡</td>\n",
       "      <td>-22.80630</td>\n",
       "      <td>...</td>\n",
       "      <td>4.68</td>\n",
       "      <td>4.79</td>\n",
       "      <td>4.70</td>\n",
       "      <td>4.87</td>\n",
       "      <td>4.85</td>\n",
       "      <td>4.86</td>\n",
       "      <td>4.67</td>\n",
       "      <td>False</td>\n",
       "      <td>3</td>\n",
       "      <td>0.00</td>\n",
       "    </tr>\n",
       "    <tr>\n",
       "      <th>1</th>\n",
       "      <td>4.790878e+07</td>\n",
       "      <td>within a day</td>\n",
       "      <td>0.50</td>\n",
       "      <td>1.00</td>\n",
       "      <td>False</td>\n",
       "      <td>1.0</td>\n",
       "      <td>True</td>\n",
       "      <td>False</td>\n",
       "      <td>Freguesia (JacarepaguÃ¡)</td>\n",
       "      <td>-22.93633</td>\n",
       "      <td>...</td>\n",
       "      <td>4.68</td>\n",
       "      <td>4.79</td>\n",
       "      <td>4.70</td>\n",
       "      <td>4.87</td>\n",
       "      <td>4.85</td>\n",
       "      <td>4.86</td>\n",
       "      <td>4.67</td>\n",
       "      <td>False</td>\n",
       "      <td>1</td>\n",
       "      <td>0.00</td>\n",
       "    </tr>\n",
       "    <tr>\n",
       "      <th>2</th>\n",
       "      <td>5.223961e+07</td>\n",
       "      <td>within a day</td>\n",
       "      <td>1.00</td>\n",
       "      <td>0.89</td>\n",
       "      <td>False</td>\n",
       "      <td>0.0</td>\n",
       "      <td>True</td>\n",
       "      <td>False</td>\n",
       "      <td>Curicica</td>\n",
       "      <td>-22.96253</td>\n",
       "      <td>...</td>\n",
       "      <td>5.00</td>\n",
       "      <td>5.00</td>\n",
       "      <td>5.00</td>\n",
       "      <td>4.89</td>\n",
       "      <td>4.78</td>\n",
       "      <td>4.78</td>\n",
       "      <td>4.89</td>\n",
       "      <td>False</td>\n",
       "      <td>1</td>\n",
       "      <td>1.16</td>\n",
       "    </tr>\n",
       "    <tr>\n",
       "      <th>3</th>\n",
       "      <td>1.044586e+07</td>\n",
       "      <td>within an hour</td>\n",
       "      <td>1.00</td>\n",
       "      <td>1.00</td>\n",
       "      <td>False</td>\n",
       "      <td>2.0</td>\n",
       "      <td>True</td>\n",
       "      <td>True</td>\n",
       "      <td>Vila Militar</td>\n",
       "      <td>-22.87969</td>\n",
       "      <td>...</td>\n",
       "      <td>4.78</td>\n",
       "      <td>4.91</td>\n",
       "      <td>4.89</td>\n",
       "      <td>4.93</td>\n",
       "      <td>4.87</td>\n",
       "      <td>4.70</td>\n",
       "      <td>4.57</td>\n",
       "      <td>False</td>\n",
       "      <td>1</td>\n",
       "      <td>0.64</td>\n",
       "    </tr>\n",
       "    <tr>\n",
       "      <th>4</th>\n",
       "      <td>5.650000e+17</td>\n",
       "      <td>within an hour</td>\n",
       "      <td>1.00</td>\n",
       "      <td>0.67</td>\n",
       "      <td>False</td>\n",
       "      <td>0.0</td>\n",
       "      <td>True</td>\n",
       "      <td>True</td>\n",
       "      <td>Del Castilho</td>\n",
       "      <td>-22.88168</td>\n",
       "      <td>...</td>\n",
       "      <td>4.68</td>\n",
       "      <td>4.79</td>\n",
       "      <td>4.70</td>\n",
       "      <td>4.87</td>\n",
       "      <td>4.85</td>\n",
       "      <td>4.86</td>\n",
       "      <td>4.67</td>\n",
       "      <td>False</td>\n",
       "      <td>2</td>\n",
       "      <td>0.00</td>\n",
       "    </tr>\n",
       "    <tr>\n",
       "      <th>...</th>\n",
       "      <td>...</td>\n",
       "      <td>...</td>\n",
       "      <td>...</td>\n",
       "      <td>...</td>\n",
       "      <td>...</td>\n",
       "      <td>...</td>\n",
       "      <td>...</td>\n",
       "      <td>...</td>\n",
       "      <td>...</td>\n",
       "      <td>...</td>\n",
       "      <td>...</td>\n",
       "      <td>...</td>\n",
       "      <td>...</td>\n",
       "      <td>...</td>\n",
       "      <td>...</td>\n",
       "      <td>...</td>\n",
       "      <td>...</td>\n",
       "      <td>...</td>\n",
       "      <td>...</td>\n",
       "      <td>...</td>\n",
       "      <td>...</td>\n",
       "    </tr>\n",
       "    <tr>\n",
       "      <th>24875</th>\n",
       "      <td>6.030000e+17</td>\n",
       "      <td>within a day</td>\n",
       "      <td>1.00</td>\n",
       "      <td>0.00</td>\n",
       "      <td>False</td>\n",
       "      <td>1.0</td>\n",
       "      <td>True</td>\n",
       "      <td>True</td>\n",
       "      <td>Santa Teresa</td>\n",
       "      <td>-22.92152</td>\n",
       "      <td>...</td>\n",
       "      <td>4.68</td>\n",
       "      <td>4.79</td>\n",
       "      <td>4.70</td>\n",
       "      <td>4.87</td>\n",
       "      <td>4.85</td>\n",
       "      <td>4.86</td>\n",
       "      <td>4.67</td>\n",
       "      <td>False</td>\n",
       "      <td>1</td>\n",
       "      <td>0.00</td>\n",
       "    </tr>\n",
       "    <tr>\n",
       "      <th>24876</th>\n",
       "      <td>5.418363e+07</td>\n",
       "      <td>within a few hours</td>\n",
       "      <td>1.00</td>\n",
       "      <td>0.98</td>\n",
       "      <td>False</td>\n",
       "      <td>0.0</td>\n",
       "      <td>True</td>\n",
       "      <td>True</td>\n",
       "      <td>Camorim</td>\n",
       "      <td>-22.97643</td>\n",
       "      <td>...</td>\n",
       "      <td>3.75</td>\n",
       "      <td>4.75</td>\n",
       "      <td>5.00</td>\n",
       "      <td>4.25</td>\n",
       "      <td>3.50</td>\n",
       "      <td>4.75</td>\n",
       "      <td>3.75</td>\n",
       "      <td>False</td>\n",
       "      <td>16</td>\n",
       "      <td>0.78</td>\n",
       "    </tr>\n",
       "    <tr>\n",
       "      <th>24877</th>\n",
       "      <td>2.303349e+07</td>\n",
       "      <td>within an hour</td>\n",
       "      <td>1.00</td>\n",
       "      <td>0.98</td>\n",
       "      <td>True</td>\n",
       "      <td>3.0</td>\n",
       "      <td>True</td>\n",
       "      <td>True</td>\n",
       "      <td>Leme</td>\n",
       "      <td>-22.96449</td>\n",
       "      <td>...</td>\n",
       "      <td>4.92</td>\n",
       "      <td>4.97</td>\n",
       "      <td>4.92</td>\n",
       "      <td>4.98</td>\n",
       "      <td>4.98</td>\n",
       "      <td>5.00</td>\n",
       "      <td>4.94</td>\n",
       "      <td>False</td>\n",
       "      <td>3</td>\n",
       "      <td>1.47</td>\n",
       "    </tr>\n",
       "    <tr>\n",
       "      <th>24878</th>\n",
       "      <td>2.341248e+06</td>\n",
       "      <td>a few days or more</td>\n",
       "      <td>0.00</td>\n",
       "      <td>1.00</td>\n",
       "      <td>False</td>\n",
       "      <td>1.0</td>\n",
       "      <td>True</td>\n",
       "      <td>False</td>\n",
       "      <td>Botafogo</td>\n",
       "      <td>-22.95310</td>\n",
       "      <td>...</td>\n",
       "      <td>4.50</td>\n",
       "      <td>4.83</td>\n",
       "      <td>4.17</td>\n",
       "      <td>4.83</td>\n",
       "      <td>5.00</td>\n",
       "      <td>4.67</td>\n",
       "      <td>4.33</td>\n",
       "      <td>False</td>\n",
       "      <td>1</td>\n",
       "      <td>0.10</td>\n",
       "    </tr>\n",
       "    <tr>\n",
       "      <th>24879</th>\n",
       "      <td>2.677551e+07</td>\n",
       "      <td>within an hour</td>\n",
       "      <td>1.00</td>\n",
       "      <td>0.90</td>\n",
       "      <td>True</td>\n",
       "      <td>8.0</td>\n",
       "      <td>True</td>\n",
       "      <td>False</td>\n",
       "      <td>Santa Teresa</td>\n",
       "      <td>-22.92075</td>\n",
       "      <td>...</td>\n",
       "      <td>5.00</td>\n",
       "      <td>5.00</td>\n",
       "      <td>4.73</td>\n",
       "      <td>4.91</td>\n",
       "      <td>5.00</td>\n",
       "      <td>4.91</td>\n",
       "      <td>5.00</td>\n",
       "      <td>False</td>\n",
       "      <td>9</td>\n",
       "      <td>0.24</td>\n",
       "    </tr>\n",
       "  </tbody>\n",
       "</table>\n",
       "<p>24880 rows × 32 columns</p>\n",
       "</div>"
      ],
      "text/plain": [
       "                 id  host_response_time  host_response_rate  \\\n",
       "0      1.596544e+07      within an hour                0.83   \n",
       "1      4.790878e+07        within a day                0.50   \n",
       "2      5.223961e+07        within a day                1.00   \n",
       "3      1.044586e+07      within an hour                1.00   \n",
       "4      5.650000e+17      within an hour                1.00   \n",
       "...             ...                 ...                 ...   \n",
       "24875  6.030000e+17        within a day                1.00   \n",
       "24876  5.418363e+07  within a few hours                1.00   \n",
       "24877  2.303349e+07      within an hour                1.00   \n",
       "24878  2.341248e+06  a few days or more                0.00   \n",
       "24879  2.677551e+07      within an hour                1.00   \n",
       "\n",
       "       host_acceptance_rate host_is_superhost  host_listings_count  \\\n",
       "0                      0.00             False                  3.0   \n",
       "1                      1.00             False                  1.0   \n",
       "2                      0.89             False                  0.0   \n",
       "3                      1.00             False                  2.0   \n",
       "4                      0.67             False                  0.0   \n",
       "...                     ...               ...                  ...   \n",
       "24875                  0.00             False                  1.0   \n",
       "24876                  0.98             False                  0.0   \n",
       "24877                  0.98              True                  3.0   \n",
       "24878                  1.00             False                  1.0   \n",
       "24879                  0.90              True                  8.0   \n",
       "\n",
       "      host_has_profile_pic host_identity_verified    neighbourhood_cleansed  \\\n",
       "0                     True                   True                   CocotÃ¡   \n",
       "1                     True                  False  Freguesia (JacarepaguÃ¡)   \n",
       "2                     True                  False                  Curicica   \n",
       "3                     True                   True              Vila Militar   \n",
       "4                     True                   True              Del Castilho   \n",
       "...                    ...                    ...                       ...   \n",
       "24875                 True                   True              Santa Teresa   \n",
       "24876                 True                   True                   Camorim   \n",
       "24877                 True                   True                      Leme   \n",
       "24878                 True                  False                  Botafogo   \n",
       "24879                 True                  False              Santa Teresa   \n",
       "\n",
       "       latitude  ...  review_scores_rating review_scores_accuracy  \\\n",
       "0     -22.80630  ...                  4.68                   4.79   \n",
       "1     -22.93633  ...                  4.68                   4.79   \n",
       "2     -22.96253  ...                  5.00                   5.00   \n",
       "3     -22.87969  ...                  4.78                   4.91   \n",
       "4     -22.88168  ...                  4.68                   4.79   \n",
       "...         ...  ...                   ...                    ...   \n",
       "24875 -22.92152  ...                  4.68                   4.79   \n",
       "24876 -22.97643  ...                  3.75                   4.75   \n",
       "24877 -22.96449  ...                  4.92                   4.97   \n",
       "24878 -22.95310  ...                  4.50                   4.83   \n",
       "24879 -22.92075  ...                  5.00                   5.00   \n",
       "\n",
       "       review_scores_cleanliness  review_scores_checkin  \\\n",
       "0                           4.70                   4.87   \n",
       "1                           4.70                   4.87   \n",
       "2                           5.00                   4.89   \n",
       "3                           4.89                   4.93   \n",
       "4                           4.70                   4.87   \n",
       "...                          ...                    ...   \n",
       "24875                       4.70                   4.87   \n",
       "24876                       5.00                   4.25   \n",
       "24877                       4.92                   4.98   \n",
       "24878                       4.17                   4.83   \n",
       "24879                       4.73                   4.91   \n",
       "\n",
       "       review_scores_communication  review_scores_location  \\\n",
       "0                             4.85                    4.86   \n",
       "1                             4.85                    4.86   \n",
       "2                             4.78                    4.78   \n",
       "3                             4.87                    4.70   \n",
       "4                             4.85                    4.86   \n",
       "...                            ...                     ...   \n",
       "24875                         4.85                    4.86   \n",
       "24876                         3.50                    4.75   \n",
       "24877                         4.98                    5.00   \n",
       "24878                         5.00                    4.67   \n",
       "24879                         5.00                    4.91   \n",
       "\n",
       "       review_scores_value  instant_bookable  calculated_host_listings_count  \\\n",
       "0                     4.67             False                               3   \n",
       "1                     4.67             False                               1   \n",
       "2                     4.89             False                               1   \n",
       "3                     4.57             False                               1   \n",
       "4                     4.67             False                               2   \n",
       "...                    ...               ...                             ...   \n",
       "24875                 4.67             False                               1   \n",
       "24876                 3.75             False                              16   \n",
       "24877                 4.94             False                               3   \n",
       "24878                 4.33             False                               1   \n",
       "24879                 5.00             False                               9   \n",
       "\n",
       "       reviews_per_month  \n",
       "0                   0.00  \n",
       "1                   0.00  \n",
       "2                   1.16  \n",
       "3                   0.64  \n",
       "4                   0.00  \n",
       "...                  ...  \n",
       "24875               0.00  \n",
       "24876               0.78  \n",
       "24877               1.47  \n",
       "24878               0.10  \n",
       "24879               0.24  \n",
       "\n",
       "[24880 rows x 32 columns]"
      ]
     },
     "execution_count": 68,
     "metadata": {},
     "output_type": "execute_result"
    }
   ],
   "source": [
    "#Copia del dataset sin nulos\n",
    "data3 = data2.copy()\n",
    "data3"
   ]
  },
  {
   "cell_type": "code",
   "execution_count": 69,
   "metadata": {},
   "outputs": [
    {
     "data": {
      "image/png": "[encoded data removed]",
      "text/plain": [
       "<Figure size 360x216 with 1 Axes>"
      ]
     },
     "metadata": {
      "needs_background": "light"
     },
     "output_type": "display_data"
    }
   ],
   "source": [
    "#Diagrama de caja: host_response_rate.\n",
    "fig1 = plt.figure(figsize =(5, 3))\n",
    "plt.boxplot(data3[\"host_response_rate\"]) #boxplot() usa iqr\n",
    "plt.title(\"host_response_rate outliers\")\n",
    "plt.show() #diagrama para visualizar outliers"
   ]
  },
  {
   "cell_type": "code",
   "execution_count": 70,
   "metadata": {},
   "outputs": [
    {
     "data": {
      "image/png": "[encoded data removed]",
      "text/plain": [
       "<Figure size 360x216 with 1 Axes>"
      ]
     },
     "metadata": {
      "needs_background": "light"
     },
     "output_type": "display_data"
    }
   ],
   "source": [
    "#Diagrama de caja: host_acceptance_rate.\n",
    "fig1 = plt.figure(figsize =(5, 3))\n",
    "plt.boxplot(data3[\"host_acceptance_rate\"]) #boxplot() usa iqr\n",
    "plt.title(\"host_acceptance_rate outliers\")\n",
    "plt.show() #diagrama para visualizar outliers"
   ]
  },
  {
   "cell_type": "code",
   "execution_count": 71,
   "metadata": {},
   "outputs": [
    {
     "data": {
      "image/png": "[encoded data removed]",
      "text/plain": [
       "<Figure size 360x216 with 1 Axes>"
      ]
     },
     "metadata": {
      "needs_background": "light"
     },
     "output_type": "display_data"
    }
   ],
   "source": [
    "#Diagrama de caja: host_listings_count.\n",
    "fig1 = plt.figure(figsize =(5, 3))\n",
    "plt.boxplot(data3[\"host_listings_count\"]) #boxplot() usa iqr\n",
    "plt.title(\"host_listings_count outliers\")\n",
    "plt.show() #diagrama para visualizar outliers"
   ]
  },
  {
   "cell_type": "code",
   "execution_count": 72,
   "metadata": {},
   "outputs": [
    {
     "name": "stdout",
     "output_type": "stream",
     "text": [
      "Limite superior permitido 105.88134516948867\n",
      "Limite inferior permitido -88.42153809553369\n"
     ]
    }
   ],
   "source": [
    "#Valores extremos: límite superior y límite inferior.\n",
    "#Variable: host_listings_count\n",
    "\n",
    "x1 = data3[\"host_listings_count\"]\n",
    "\n",
    "LS1= x1.mean() + 3*x1.std()\n",
    "LI1= x1.mean() - 3*x1.std()\n",
    "\n",
    "print(\"Limite superior permitido\", LS1)\n",
    "print(\"Limite inferior permitido\", LI1)"
   ]
  },
  {
   "cell_type": "code",
   "execution_count": 73,
   "metadata": {},
   "outputs": [
    {
     "name": "stderr",
     "output_type": "stream",
     "text": [
      "C:\\Users\\aremy\\AppData\\Local\\Temp\\ipykernel_9684\\1386262199.py:4: SettingWithCopyWarning: \n",
      "A value is trying to be set on a copy of a slice from a DataFrame.\n",
      "Try using .loc[row_indexer,col_indexer] = value instead\n",
      "\n",
      "See the caveats in the documentation: https://pandas.pydata.org/pandas-docs/stable/user_guide/indexing.html#returning-a-view-versus-a-copy\n",
      "  data3[\"host_listings_count\"]=data3[\"host_listings_count\"].fillna(round(data2[\"host_listings_count\"].mean(),0))\n"
     ]
    }
   ],
   "source": [
    "#Primera sustitución: host_listings_count\n",
    "#Método: desviación estándar\n",
    "data3=data2[(x1<=LS1)&(x1>=LI1)] #Obtenemos datos sin outliers de host_listings_count del DataFrame\n",
    "data3[\"host_listings_count\"]=data3[\"host_listings_count\"].fillna(round(data2[\"host_listings_count\"].mean(),0))"
   ]
  },
  {
   "cell_type": "code",
   "execution_count": 74,
   "metadata": {},
   "outputs": [
    {
     "data": {
      "image/png": "[encoded data removed]",
      "text/plain": [
       "<Figure size 360x216 with 1 Axes>"
      ]
     },
     "metadata": {
      "needs_background": "light"
     },
     "output_type": "display_data"
    }
   ],
   "source": [
    "#Diagrama de caja: accommodates.\n",
    "fig1 = plt.figure(figsize =(5, 3))\n",
    "plt.boxplot(data3[\"accommodates\"]) #boxplot() usa iqr\n",
    "plt.title(\"accommodates outliers\")\n",
    "plt.show() #diagrama para visualizar outliers\n",
    "#Se dejan los valores originales porque pueden explicar porqué un precio estaría tan alto"
   ]
  },
  {
   "cell_type": "code",
   "execution_count": 75,
   "metadata": {},
   "outputs": [
    {
     "data": {
      "image/png": "[encoded data removed]",
      "text/plain": [
       "<Figure size 360x216 with 1 Axes>"
      ]
     },
     "metadata": {
      "needs_background": "light"
     },
     "output_type": "display_data"
    }
   ],
   "source": [
    "#Diagrama de caja: bathroom_text.\n",
    "fig1 = plt.figure(figsize =(5, 3))\n",
    "plt.boxplot(data3[\"bathroom_text\"]) #boxplot() usa iqr\n",
    "plt.title(\"bathroom_text outliers\")\n",
    "plt.show() #diagrama para visualizar outliers\n",
    "#Se dejan los valores encima del LS porque pueden explicar porqué un precio estaría tan alto"
   ]
  },
  {
   "cell_type": "markdown",
   "metadata": {},
   "source": [
    "TRATAR OUTLIERS DE BEDS Y BEDRROOMS"
   ]
  },
  {
   "cell_type": "code",
   "execution_count": 76,
   "metadata": {},
   "outputs": [
    {
     "data": {
      "image/png": "[encoded data removed]",
      "text/plain": [
       "<Figure size 360x216 with 1 Axes>"
      ]
     },
     "metadata": {
      "needs_background": "light"
     },
     "output_type": "display_data"
    }
   ],
   "source": [
    "#Diagrama de caja: bedrooms.\n",
    "fig1 = plt.figure(figsize =(5, 3))\n",
    "plt.boxplot(data3[\"bedrooms\"]) #boxplot() usa iqr\n",
    "plt.title(\"bedrooms outliers\")\n",
    "plt.show() #diagrama para visualizar outliers"
   ]
  },
  {
   "cell_type": "code",
   "execution_count": 77,
   "metadata": {},
   "outputs": [
    {
     "name": "stdout",
     "output_type": "stream",
     "text": [
      "Limite superior permitido 10.11400746448766\n",
      "Limite inferior permitido -6.704187417260236\n"
     ]
    }
   ],
   "source": [
    "#Valores extremos: límite superior y límite inferior.\n",
    "#Variable: bedrooms\n",
    "\n",
    "x7 = data2[\"bedrooms\"]\n",
    "\n",
    "LS7= x7.mean() + 8*x7.std()\n",
    "LI7= x7.mean() - 8*x7.std()\n",
    "\n",
    "print(\"Limite superior permitido\", LS7)\n",
    "print(\"Limite inferior permitido\", LI7)"
   ]
  },
  {
   "cell_type": "code",
   "execution_count": 82,
   "metadata": {},
   "outputs": [
    {
     "name": "stderr",
     "output_type": "stream",
     "text": [
      "C:\\Users\\aremy\\AppData\\Local\\Temp\\ipykernel_9684\\3457803248.py:3: UserWarning: Boolean Series key will be reindexed to match DataFrame index.\n",
      "  data3=data2[(x7<=LS7)&(x7>=LI7)] #Obtenemos datos sin outliers de bedrooms del DataFrame\n"
     ]
    },
    {
     "ename": "IndexingError",
     "evalue": "Unalignable boolean Series provided as indexer (index of the boolean Series and of the indexed object do not match).",
     "output_type": "error",
     "traceback": [
      "\u001b[1;31m---------------------------------------------------------------------------\u001b[0m",
      "\u001b[1;31mIndexingError\u001b[0m                             Traceback (most recent call last)",
      "\u001b[1;32mc:\\Users\\aremy\\OneDrive\\LIT 5\\Semanas 7 - 11\\Gestión de proyectos de plataformas tecnológicas\\Airbnb-new-data\\cleaning_bra.ipynb Celda 23\u001b[0m in \u001b[0;36m<cell line: 3>\u001b[1;34m()\u001b[0m\n\u001b[0;32m      <a href='vscode-notebook-cell:/c%3A/Users/aremy/OneDrive/LIT%205/Semanas%207%20-%2011/Gesti%C3%B3n%20de%20proyectos%20de%20plataformas%20tecnol%C3%B3gicas/Airbnb-new-data/cleaning_bra.ipynb#Y110sZmlsZQ%3D%3D?line=0'>1</a>\u001b[0m \u001b[39m#Otra sustitución: bedrooms\u001b[39;00m\n\u001b[0;32m      <a href='vscode-notebook-cell:/c%3A/Users/aremy/OneDrive/LIT%205/Semanas%207%20-%2011/Gesti%C3%B3n%20de%20proyectos%20de%20plataformas%20tecnol%C3%B3gicas/Airbnb-new-data/cleaning_bra.ipynb#Y110sZmlsZQ%3D%3D?line=1'>2</a>\u001b[0m \u001b[39m#Método: desviación estándar\u001b[39;00m\n\u001b[1;32m----> <a href='vscode-notebook-cell:/c%3A/Users/aremy/OneDrive/LIT%205/Semanas%207%20-%2011/Gesti%C3%B3n%20de%20proyectos%20de%20plataformas%20tecnol%C3%B3gicas/Airbnb-new-data/cleaning_bra.ipynb#Y110sZmlsZQ%3D%3D?line=2'>3</a>\u001b[0m data3\u001b[39m=\u001b[39mdata2[(x7\u001b[39m<\u001b[39;49m\u001b[39m=\u001b[39;49mLS7)\u001b[39m&\u001b[39;49m(x7\u001b[39m>\u001b[39;49m\u001b[39m=\u001b[39;49mLI7)] \u001b[39m#Obtenemos datos sin outliers de bedrooms del DataFrame\u001b[39;00m\n\u001b[0;32m      <a href='vscode-notebook-cell:/c%3A/Users/aremy/OneDrive/LIT%205/Semanas%207%20-%2011/Gesti%C3%B3n%20de%20proyectos%20de%20plataformas%20tecnol%C3%B3gicas/Airbnb-new-data/cleaning_bra.ipynb#Y110sZmlsZQ%3D%3D?line=3'>4</a>\u001b[0m data3[\u001b[39m\"\u001b[39m\u001b[39mbedrooms\u001b[39m\u001b[39m\"\u001b[39m]\u001b[39m=\u001b[39mdata3[\u001b[39m\"\u001b[39m\u001b[39mbedrooms\u001b[39m\u001b[39m\"\u001b[39m]\u001b[39m.\u001b[39mfillna(\u001b[39mround\u001b[39m(data2[\u001b[39m\"\u001b[39m\u001b[39mbedrooms\u001b[39m\u001b[39m\"\u001b[39m]\u001b[39m.\u001b[39mmedian(),\u001b[39m0\u001b[39m))\n",
      "File \u001b[1;32m~\\AppData\\Local\\Packages\\PythonSoftwareFoundation.Python.3.10_qbz5n2kfra8p0\\LocalCache\\local-packages\\Python310\\site-packages\\pandas\\core\\frame.py:3496\u001b[0m, in \u001b[0;36mDataFrame.__getitem__\u001b[1;34m(self, key)\u001b[0m\n\u001b[0;32m   3494\u001b[0m \u001b[39m# Do we have a (boolean) 1d indexer?\u001b[39;00m\n\u001b[0;32m   3495\u001b[0m \u001b[39mif\u001b[39;00m com\u001b[39m.\u001b[39mis_bool_indexer(key):\n\u001b[1;32m-> 3496\u001b[0m     \u001b[39mreturn\u001b[39;00m \u001b[39mself\u001b[39;49m\u001b[39m.\u001b[39;49m_getitem_bool_array(key)\n\u001b[0;32m   3498\u001b[0m \u001b[39m# We are left with two options: a single key, and a collection of keys,\u001b[39;00m\n\u001b[0;32m   3499\u001b[0m \u001b[39m# We interpret tuples as collections only for non-MultiIndex\u001b[39;00m\n\u001b[0;32m   3500\u001b[0m is_single_key \u001b[39m=\u001b[39m \u001b[39misinstance\u001b[39m(key, \u001b[39mtuple\u001b[39m) \u001b[39mor\u001b[39;00m \u001b[39mnot\u001b[39;00m is_list_like(key)\n",
      "File \u001b[1;32m~\\AppData\\Local\\Packages\\PythonSoftwareFoundation.Python.3.10_qbz5n2kfra8p0\\LocalCache\\local-packages\\Python310\\site-packages\\pandas\\core\\frame.py:3549\u001b[0m, in \u001b[0;36mDataFrame._getitem_bool_array\u001b[1;34m(self, key)\u001b[0m\n\u001b[0;32m   3543\u001b[0m     \u001b[39mraise\u001b[39;00m \u001b[39mValueError\u001b[39;00m(\n\u001b[0;32m   3544\u001b[0m         \u001b[39mf\u001b[39m\u001b[39m\"\u001b[39m\u001b[39mItem wrong length \u001b[39m\u001b[39m{\u001b[39;00m\u001b[39mlen\u001b[39m(key)\u001b[39m}\u001b[39;00m\u001b[39m instead of \u001b[39m\u001b[39m{\u001b[39;00m\u001b[39mlen\u001b[39m(\u001b[39mself\u001b[39m\u001b[39m.\u001b[39mindex)\u001b[39m}\u001b[39;00m\u001b[39m.\u001b[39m\u001b[39m\"\u001b[39m\n\u001b[0;32m   3545\u001b[0m     )\n\u001b[0;32m   3547\u001b[0m \u001b[39m# check_bool_indexer will throw exception if Series key cannot\u001b[39;00m\n\u001b[0;32m   3548\u001b[0m \u001b[39m# be reindexed to match DataFrame rows\u001b[39;00m\n\u001b[1;32m-> 3549\u001b[0m key \u001b[39m=\u001b[39m check_bool_indexer(\u001b[39mself\u001b[39;49m\u001b[39m.\u001b[39;49mindex, key)\n\u001b[0;32m   3550\u001b[0m indexer \u001b[39m=\u001b[39m key\u001b[39m.\u001b[39mnonzero()[\u001b[39m0\u001b[39m]\n\u001b[0;32m   3551\u001b[0m \u001b[39mreturn\u001b[39;00m \u001b[39mself\u001b[39m\u001b[39m.\u001b[39m_take_with_is_copy(indexer, axis\u001b[39m=\u001b[39m\u001b[39m0\u001b[39m)\n",
      "File \u001b[1;32m~\\AppData\\Local\\Packages\\PythonSoftwareFoundation.Python.3.10_qbz5n2kfra8p0\\LocalCache\\local-packages\\Python310\\site-packages\\pandas\\core\\indexing.py:2383\u001b[0m, in \u001b[0;36mcheck_bool_indexer\u001b[1;34m(index, key)\u001b[0m\n\u001b[0;32m   2381\u001b[0m     mask \u001b[39m=\u001b[39m isna(result\u001b[39m.\u001b[39m_values)\n\u001b[0;32m   2382\u001b[0m     \u001b[39mif\u001b[39;00m mask\u001b[39m.\u001b[39many():\n\u001b[1;32m-> 2383\u001b[0m         \u001b[39mraise\u001b[39;00m IndexingError(\n\u001b[0;32m   2384\u001b[0m             \u001b[39m\"\u001b[39m\u001b[39mUnalignable boolean Series provided as \u001b[39m\u001b[39m\"\u001b[39m\n\u001b[0;32m   2385\u001b[0m             \u001b[39m\"\u001b[39m\u001b[39mindexer (index of the boolean Series and of \u001b[39m\u001b[39m\"\u001b[39m\n\u001b[0;32m   2386\u001b[0m             \u001b[39m\"\u001b[39m\u001b[39mthe indexed object do not match).\u001b[39m\u001b[39m\"\u001b[39m\n\u001b[0;32m   2387\u001b[0m         )\n\u001b[0;32m   2388\u001b[0m     \u001b[39mreturn\u001b[39;00m result\u001b[39m.\u001b[39mastype(\u001b[39mbool\u001b[39m)\u001b[39m.\u001b[39m_values\n\u001b[0;32m   2389\u001b[0m \u001b[39mif\u001b[39;00m is_object_dtype(key):\n\u001b[0;32m   2390\u001b[0m     \u001b[39m# key might be object-dtype bool, check_array_indexer needs bool array\u001b[39;00m\n",
      "\u001b[1;31mIndexingError\u001b[0m: Unalignable boolean Series provided as indexer (index of the boolean Series and of the indexed object do not match)."
     ]
    }
   ],
   "source": [
    "#Otra sustitución: bedrooms\n",
    "#Método: desviación estándar\n",
    "data3=data2[(x7<=LS7)&(x7>=LI7)] #Obtenemos datos sin outliers de bedrooms del DataFrame\n",
    "data3[\"bedrooms\"]=data3[\"bedrooms\"].fillna(round(data2[\"bedrooms\"].mean(),0))"
   ]
  },
  {
   "cell_type": "code",
   "execution_count": 85,
   "metadata": {},
   "outputs": [
    {
     "data": {
      "text/plain": [
       "24548"
      ]
     },
     "execution_count": 85,
     "metadata": {},
     "output_type": "execute_result"
    }
   ],
   "source": [
    "len(data3['bedrooms'])"
   ]
  },
  {
   "cell_type": "code",
   "execution_count": 86,
   "metadata": {},
   "outputs": [
    {
     "data": {
      "text/plain": [
       "24880"
      ]
     },
     "execution_count": 86,
     "metadata": {},
     "output_type": "execute_result"
    }
   ],
   "source": [
    "len(data2['bedrooms'])"
   ]
  },
  {
   "cell_type": "code",
   "execution_count": null,
   "metadata": {},
   "outputs": [
    {
     "data": {
      "image/png": "[encoded data removed]",
      "text/plain": [
       "<Figure size 360x216 with 1 Axes>"
      ]
     },
     "metadata": {
      "needs_background": "light"
     },
     "output_type": "display_data"
    }
   ],
   "source": [
    "#Diagrama de caja: beds.\n",
    "fig1 = plt.figure(figsize =(5, 3))\n",
    "plt.boxplot(data3[\"beds\"]) #boxplot() usa iqr\n",
    "plt.title(\"beds outliers\")\n",
    "plt.show() #diagrama para visualizar outliers\n",
    "#Se dejan los valores originales porque pueden explicar porqué un precio estaría tan alto"
   ]
  },
  {
   "cell_type": "code",
   "execution_count": null,
   "metadata": {},
   "outputs": [
    {
     "data": {
      "image/png": "[encoded data removed]",
      "text/plain": [
       "<Figure size 360x216 with 1 Axes>"
      ]
     },
     "metadata": {
      "needs_background": "light"
     },
     "output_type": "display_data"
    }
   ],
   "source": [
    "#Diagrama de caja: price.\n",
    "fig1 = plt.figure(figsize =(5, 3))\n",
    "plt.boxplot(data3[\"price\"]) #boxplot() usa iqr\n",
    "plt.title(\"price outliers\")\n",
    "plt.show() #diagrama para visualizar outliers"
   ]
  },
  {
   "cell_type": "code",
   "execution_count": null,
   "metadata": {},
   "outputs": [
    {
     "data": {
      "text/plain": [
       "0"
      ]
     },
     "execution_count": 21,
     "metadata": {},
     "output_type": "execute_result"
    }
   ],
   "source": [
    "min(data3['price'])\n",
    "#Se decidió no sustituir atípicos porque estos son los precios registrados en la base de datos"
   ]
  },
  {
   "cell_type": "code",
   "execution_count": null,
   "metadata": {},
   "outputs": [
    {
     "data": {
      "image/png": "[encoded data removed]",
      "text/plain": [
       "<Figure size 360x216 with 1 Axes>"
      ]
     },
     "metadata": {
      "needs_background": "light"
     },
     "output_type": "display_data"
    }
   ],
   "source": [
    "#Diagrama de caja: minimum_nights.\n",
    "fig1 = plt.figure(figsize =(5, 3))\n",
    "plt.boxplot(data3[\"minimum_nights\"]) #boxplot() usa iqr\n",
    "plt.title(\"minimum_nights outliers\")\n",
    "plt.show() #diagrama para visualizar outliers"
   ]
  },
  {
   "cell_type": "code",
   "execution_count": null,
   "metadata": {},
   "outputs": [
    {
     "name": "stdout",
     "output_type": "stream",
     "text": [
      "Limite superior permitido 8.5\n",
      "Limite inferior permitido -3.5\n"
     ]
    }
   ],
   "source": [
    "#Valores extremos: límite superior y límite inferior.\n",
    "#Variable: minimum_nights.\n",
    "\n",
    "x2 = data2['minimum_nights']\n",
    "\n",
    "p25x2=x2.quantile(0.25) #Q1\n",
    "p75x2=x2.quantile(0.75) #Q3\n",
    "iqrx2 = p75x2 - p25x2 #Q3-Q1\n",
    "\n",
    "LS_iqr_x2 = p75x2 + 1.5*iqrx2\n",
    "LI_iqr_x2 = p25x2 - 1.5*iqrx2\n",
    "print(\"Limite superior permitido\", LS_iqr_x2)\n",
    "print(\"Limite inferior permitido\", LI_iqr_x2)"
   ]
  },
  {
   "cell_type": "code",
   "execution_count": null,
   "metadata": {},
   "outputs": [
    {
     "name": "stderr",
     "output_type": "stream",
     "text": [
      "C:\\Users\\aremy\\AppData\\Local\\Temp\\ipykernel_9684\\4001852734.py:4: SettingWithCopyWarning: \n",
      "A value is trying to be set on a copy of a slice from a DataFrame.\n",
      "Try using .loc[row_indexer,col_indexer] = value instead\n",
      "\n",
      "See the caveats in the documentation: https://pandas.pydata.org/pandas-docs/stable/user_guide/indexing.html#returning-a-view-versus-a-copy\n",
      "  data3[\"minimum_nights\"]=data3[\"minimum_nights\"].fillna(round(data2[\"minimum_nights\"].mean(),0))\n"
     ]
    }
   ],
   "source": [
    "#Segunda sustitución: minimum_nights\n",
    "#Método: desviación estándar\n",
    "data3=data2[(x2<=LS_iqr_x2)&(x2>=LI_iqr_x2)] #Obtenemos datos sin outliers de minimum_nights del DataFrame\n",
    "data3[\"minimum_nights\"]=data3[\"minimum_nights\"].fillna(round(data2[\"minimum_nights\"].mean(),0))"
   ]
  },
  {
   "cell_type": "code",
   "execution_count": 87,
   "metadata": {},
   "outputs": [
    {
     "data": {
      "text/plain": [
       "24880"
      ]
     },
     "execution_count": 87,
     "metadata": {},
     "output_type": "execute_result"
    }
   ],
   "source": [
    "len(data2['minimum_nights'])"
   ]
  },
  {
   "cell_type": "code",
   "execution_count": 88,
   "metadata": {},
   "outputs": [
    {
     "data": {
      "text/plain": [
       "24548"
      ]
     },
     "execution_count": 88,
     "metadata": {},
     "output_type": "execute_result"
    }
   ],
   "source": [
    "len(data3['minimum_nights'])"
   ]
  },
  {
   "cell_type": "code",
   "execution_count": null,
   "metadata": {},
   "outputs": [
    {
     "data": {
      "image/png": "[encoded data removed]",
      "text/plain": [
       "<Figure size 360x216 with 1 Axes>"
      ]
     },
     "metadata": {
      "needs_background": "light"
     },
     "output_type": "display_data"
    }
   ],
   "source": [
    "#Diagrama de caja: maximum_nights.\n",
    "fig1 = plt.figure(figsize =(5, 3))\n",
    "plt.boxplot(data3[\"maximum_nights\"]) #boxplot() usa iqr\n",
    "plt.title(\"maximum_nights outliers\")\n",
    "plt.show() #diagrama para visualizar outliers"
   ]
  },
  {
   "cell_type": "code",
   "execution_count": null,
   "metadata": {},
   "outputs": [
    {
     "name": "stdout",
     "output_type": "stream",
     "text": [
      "Limite superior permitido 2745.0\n",
      "Limite inferior permitido -1575.0\n"
     ]
    }
   ],
   "source": [
    "#Valores extremos: límite superior y límite inferior.\n",
    "#Variable: maximum_nights.\n",
    "\n",
    "x3 = data2['maximum_nights']\n",
    "\n",
    "p25x3=x3.quantile(0.25) #Q1\n",
    "p75x3=x3.quantile(0.75) #Q3\n",
    "iqrx3 = p75x3 - p25x3 #Q3-Q1\n",
    "\n",
    "LS_iqr_x3 = p75x3 + 1.5*iqrx3\n",
    "LI_iqr_x3 = p25x3 - 1.5*iqrx3\n",
    "print(\"Limite superior permitido\", LS_iqr_x3)\n",
    "print(\"Limite inferior permitido\", LI_iqr_x3)"
   ]
  },
  {
   "cell_type": "code",
   "execution_count": null,
   "metadata": {},
   "outputs": [
    {
     "name": "stderr",
     "output_type": "stream",
     "text": [
      "C:\\Users\\aremy\\AppData\\Local\\Temp\\ipykernel_9684\\3796938618.py:4: SettingWithCopyWarning: \n",
      "A value is trying to be set on a copy of a slice from a DataFrame.\n",
      "Try using .loc[row_indexer,col_indexer] = value instead\n",
      "\n",
      "See the caveats in the documentation: https://pandas.pydata.org/pandas-docs/stable/user_guide/indexing.html#returning-a-view-versus-a-copy\n",
      "  data3[\"maximum_nights\"]=data3[\"maximum_nights\"].fillna(round(data2[\"maximum_nights\"].mean(),0))\n"
     ]
    }
   ],
   "source": [
    "#Tercera sustitución: maximum_nights\n",
    "#Método: desviación estándar\n",
    "data3=data2[(x3<=LS_iqr_x3)&(x3>=LI_iqr_x3)] #Obtenemos datos sin outliers de maximum_nights del DataFrame\n",
    "data3[\"maximum_nights\"]=data3[\"maximum_nights\"].fillna(round(data2[\"maximum_nights\"].mean(),0))"
   ]
  },
  {
   "cell_type": "code",
   "execution_count": null,
   "metadata": {},
   "outputs": [
    {
     "data": {
      "image/png": "[encoded data removed]",
      "text/plain": [
       "<Figure size 360x216 with 1 Axes>"
      ]
     },
     "metadata": {
      "needs_background": "light"
     },
     "output_type": "display_data"
    }
   ],
   "source": [
    "#Diagrama de caja: availability_365.\n",
    "fig1 = plt.figure(figsize =(5, 3))\n",
    "plt.boxplot(data3[\"availability_365\"]) #boxplot() usa iqr\n",
    "plt.title(\"availability_365 outliers\")\n",
    "plt.show() #diagrama para visualizar outliers"
   ]
  },
  {
   "cell_type": "code",
   "execution_count": null,
   "metadata": {},
   "outputs": [
    {
     "data": {
      "image/png": "[encoded data removed]",
      "text/plain": [
       "<Figure size 360x216 with 1 Axes>"
      ]
     },
     "metadata": {
      "needs_background": "light"
     },
     "output_type": "display_data"
    }
   ],
   "source": [
    "#Diagrama de caja: number_of_reviews.\n",
    "fig1 = plt.figure(figsize =(5, 3))\n",
    "plt.boxplot(data3[\"number_of_reviews\"]) #boxplot() usa iqr\n",
    "plt.title(\"number_of_reviews outliers\")\n",
    "plt.show() #diagrama para visualizar outliers"
   ]
  },
  {
   "cell_type": "code",
   "execution_count": null,
   "metadata": {},
   "outputs": [
    {
     "name": "stdout",
     "output_type": "stream",
     "text": [
      "Limite superior permitido 37.5\n",
      "Limite inferior permitido -22.5\n"
     ]
    }
   ],
   "source": [
    "#Valores extremos: límite superior y límite inferior.\n",
    "#Variable: number_of_reviews.\n",
    "\n",
    "x4 = data2['number_of_reviews']\n",
    "\n",
    "p25x4=x4.quantile(0.25) #Q1\n",
    "p75x4=x4.quantile(0.75) #Q3\n",
    "iqrx4 = p75x4 - p25x4 #Q3-Q1\n",
    "\n",
    "LS_iqr_x4 = p75x4 + 1.5*iqrx4\n",
    "LI_iqr_x4 = p25x4 - 1.5*iqrx4\n",
    "print(\"Limite superior permitido\", LS_iqr_x4)\n",
    "print(\"Limite inferior permitido\", LI_iqr_x4)"
   ]
  },
  {
   "cell_type": "code",
   "execution_count": null,
   "metadata": {},
   "outputs": [
    {
     "name": "stderr",
     "output_type": "stream",
     "text": [
      "C:\\Users\\aremy\\AppData\\Local\\Temp\\ipykernel_9684\\911625123.py:4: SettingWithCopyWarning: \n",
      "A value is trying to be set on a copy of a slice from a DataFrame.\n",
      "Try using .loc[row_indexer,col_indexer] = value instead\n",
      "\n",
      "See the caveats in the documentation: https://pandas.pydata.org/pandas-docs/stable/user_guide/indexing.html#returning-a-view-versus-a-copy\n",
      "  data3[\"number_of_reviews\"]=data3[\"number_of_reviews\"].fillna(round(data2[\"number_of_reviews\"].mean(),0))\n"
     ]
    }
   ],
   "source": [
    "#Tercera sustitución: number_of_reviews\n",
    "#Método: intercuartílicos\n",
    "data3=data2[(x4<=LS_iqr_x4)&(x4>=LI_iqr_x4)] #Obtenemos datos sin outliers de number_of_reviews del DataFrame\n",
    "data3[\"number_of_reviews\"]=data3[\"number_of_reviews\"].fillna(round(data2[\"number_of_reviews\"].mean(),0))"
   ]
  },
  {
   "cell_type": "code",
   "execution_count": null,
   "metadata": {},
   "outputs": [
    {
     "data": {
      "image/png": "[encoded data removed]",
      "text/plain": [
       "<Figure size 360x216 with 1 Axes>"
      ]
     },
     "metadata": {
      "needs_background": "light"
     },
     "output_type": "display_data"
    }
   ],
   "source": [
    "#Diagrama de caja: number_of_reviews_ltm.\n",
    "fig1 = plt.figure(figsize =(5, 3))\n",
    "plt.boxplot(data3[\"number_of_reviews_ltm\"]) #boxplot() usa iqr\n",
    "plt.title(\"number_of_reviews_ltm outliers\")\n",
    "plt.show() #diagrama para visualizar outliers"
   ]
  },
  {
   "cell_type": "code",
   "execution_count": null,
   "metadata": {},
   "outputs": [
    {
     "data": {
      "image/png": "[encoded data removed]",
      "text/plain": [
       "<Figure size 360x216 with 1 Axes>"
      ]
     },
     "metadata": {
      "needs_background": "light"
     },
     "output_type": "display_data"
    }
   ],
   "source": [
    "#Diagrama de caja: review_scores_rating.\n",
    "fig1 = plt.figure(figsize =(5, 3))\n",
    "plt.boxplot(data3[\"review_scores_rating\"]) #boxplot() usa iqr\n",
    "plt.title(\"review_scores_rating outliers\")\n",
    "plt.show() #diagrama para visualizar outliers\n",
    "#No se tratarán porque son los score dados por el usuario y es importante conocer su relación real con el precio"
   ]
  },
  {
   "cell_type": "code",
   "execution_count": null,
   "metadata": {},
   "outputs": [
    {
     "data": {
      "image/png": "[encoded data removed]",
      "text/plain": [
       "<Figure size 360x216 with 1 Axes>"
      ]
     },
     "metadata": {
      "needs_background": "light"
     },
     "output_type": "display_data"
    }
   ],
   "source": [
    "#Diagrama de caja: review_scores_accuracy.\n",
    "fig1 = plt.figure(figsize =(5, 3))\n",
    "plt.boxplot(data3[\"review_scores_accuracy\"]) #boxplot() usa iqr\n",
    "plt.title(\"review_scores_accuracy outliers\")\n",
    "plt.show() #diagrama para visualizar outliers\n",
    "#No se tratarán porque son los score dados por el usuario y es importante conocer su relación real con el precio"
   ]
  },
  {
   "cell_type": "code",
   "execution_count": null,
   "metadata": {},
   "outputs": [
    {
     "data": {
      "image/png": "[encoded data removed]",
      "text/plain": [
       "<Figure size 360x216 with 1 Axes>"
      ]
     },
     "metadata": {
      "needs_background": "light"
     },
     "output_type": "display_data"
    }
   ],
   "source": [
    "#Diagrama de caja: review_scores_cleanliness.\n",
    "fig1 = plt.figure(figsize =(5, 3))\n",
    "plt.boxplot(data3[\"review_scores_cleanliness\"]) #boxplot() usa iqr\n",
    "plt.title(\"review_scores_cleanliness outliers\")\n",
    "plt.show() #diagrama para visualizar outliers\n",
    "#No se tratarán porque son los score dados por el usuario y es importante conocer su relación real con el precio"
   ]
  },
  {
   "cell_type": "code",
   "execution_count": null,
   "metadata": {},
   "outputs": [
    {
     "data": {
      "image/png": "[encoded data removed]",
      "text/plain": [
       "<Figure size 360x216 with 1 Axes>"
      ]
     },
     "metadata": {
      "needs_background": "light"
     },
     "output_type": "display_data"
    }
   ],
   "source": [
    "#Diagrama de caja: review_scores_checkin.\n",
    "fig1 = plt.figure(figsize =(5, 3))\n",
    "plt.boxplot(data3[\"review_scores_checkin\"]) #boxplot() usa iqr\n",
    "plt.title(\"review_scores_checkin outliers\")\n",
    "plt.show() #diagrama para visualizar outliers\n",
    "#No se tratarán porque son los score dados por el usuario y es importante conocer su relación real con el precio"
   ]
  },
  {
   "cell_type": "code",
   "execution_count": null,
   "metadata": {},
   "outputs": [
    {
     "data": {
      "image/png": "[encoded data removed]",
      "text/plain": [
       "<Figure size 360x216 with 1 Axes>"
      ]
     },
     "metadata": {
      "needs_background": "light"
     },
     "output_type": "display_data"
    }
   ],
   "source": [
    "#Diagrama de caja: review_scores_communication.\n",
    "fig1 = plt.figure(figsize =(5, 3))\n",
    "plt.boxplot(data3[\"review_scores_communication\"]) #boxplot() usa iqr\n",
    "plt.title(\"review_scores_communication outliers\")\n",
    "plt.show() #diagrama para visualizar outliers\n",
    "#No se tratarán porque son los score dados por el usuario y es importante conocer su relación real con el precio"
   ]
  },
  {
   "cell_type": "code",
   "execution_count": null,
   "metadata": {},
   "outputs": [
    {
     "data": {
      "image/png": "[encoded data removed]",
      "text/plain": [
       "<Figure size 360x216 with 1 Axes>"
      ]
     },
     "metadata": {
      "needs_background": "light"
     },
     "output_type": "display_data"
    }
   ],
   "source": [
    "#Diagrama de caja: review_scores_location.\n",
    "fig1 = plt.figure(figsize =(5, 3))\n",
    "plt.boxplot(data3[\"review_scores_location\"]) #boxplot() usa iqr\n",
    "plt.title(\"review_scores_location outliers\")\n",
    "plt.show() #diagrama para visualizar outliers\n",
    "#No se tratarán porque son los score dados por el usuario y es importante conocer su relación real con el precio"
   ]
  },
  {
   "cell_type": "code",
   "execution_count": null,
   "metadata": {},
   "outputs": [
    {
     "data": {
      "image/png": "[encoded data removed]",
      "text/plain": [
       "<Figure size 360x216 with 1 Axes>"
      ]
     },
     "metadata": {
      "needs_background": "light"
     },
     "output_type": "display_data"
    }
   ],
   "source": [
    "#Diagrama de caja: review_scores_value.\n",
    "fig1 = plt.figure(figsize =(5, 3))\n",
    "plt.boxplot(data3[\"review_scores_value\"]) #boxplot() usa iqr\n",
    "plt.title(\"review_scores_value outliers\")\n",
    "plt.show() #diagrama para visualizar outliers\n",
    "#No se tratarán porque son los score dados por el usuario y es importante conocer su relación real con el precio"
   ]
  },
  {
   "cell_type": "code",
   "execution_count": null,
   "metadata": {},
   "outputs": [
    {
     "data": {
      "image/png": "[encoded data removed]",
      "text/plain": [
       "<Figure size 360x216 with 1 Axes>"
      ]
     },
     "metadata": {
      "needs_background": "light"
     },
     "output_type": "display_data"
    }
   ],
   "source": [
    "#Diagrama de caja: calculated_host_listings_count.\n",
    "fig1 = plt.figure(figsize =(5, 3))\n",
    "plt.boxplot(data3[\"calculated_host_listings_count\"]) #boxplot() usa iqr\n",
    "plt.title(\"calculated_host_listings_count outliers\")\n",
    "plt.show() #diagrama para visualizar outliers\n",
    "#No se tratarán porque quizá los hosts con mayores propiedades registradas tienen mejor nivel socioeconómico.\n",
    "#Por lo que el estilo de casas quizá sean da alto valor y esté relacionado con un precio mayor."
   ]
  },
  {
   "cell_type": "code",
   "execution_count": null,
   "metadata": {},
   "outputs": [
    {
     "name": "stdout",
     "output_type": "stream",
     "text": [
      "Limite superior permitido 74.95593221690524\n",
      "Limite inferior permitido -58.914774660635146\n"
     ]
    }
   ],
   "source": [
    "#Valores extremos: límite superior y límite inferior.\n",
    "#Variable: calculated_host_listings_count\n",
    "\n",
    "x6 = data2[\"calculated_host_listings_count\"]\n",
    "\n",
    "LS6= x6.mean() + 3*x6.std()\n",
    "LI6= x6.mean() - 3*x6.std()\n",
    "\n",
    "print(\"Limite superior permitido\", LS6)\n",
    "print(\"Limite inferior permitido\", LI6)"
   ]
  },
  {
   "cell_type": "code",
   "execution_count": null,
   "metadata": {},
   "outputs": [
    {
     "name": "stderr",
     "output_type": "stream",
     "text": [
      "C:\\Users\\aremy\\AppData\\Local\\Temp\\ipykernel_9684\\1490209844.py:4: SettingWithCopyWarning: \n",
      "A value is trying to be set on a copy of a slice from a DataFrame.\n",
      "Try using .loc[row_indexer,col_indexer] = value instead\n",
      "\n",
      "See the caveats in the documentation: https://pandas.pydata.org/pandas-docs/stable/user_guide/indexing.html#returning-a-view-versus-a-copy\n",
      "  data3[\"calculated_host_listings_count\"]=data3[\"calculated_host_listings_count\"].fillna(round(data2[\"calculated_host_listings_count\"].mean(),0))\n"
     ]
    }
   ],
   "source": [
    "#Cuarta sustitución: calculated_host_listings_count\n",
    "#Método: desviación estándar\n",
    "data3=data2[(x6<=LS6)&(x6>=LI6)] #Obtenemos datos sin outliers de host_listings_count del DataFrame\n",
    "data3[\"calculated_host_listings_count\"]=data3[\"calculated_host_listings_count\"].fillna(round(data2[\"calculated_host_listings_count\"].mean(),0))"
   ]
  },
  {
   "cell_type": "code",
   "execution_count": null,
   "metadata": {},
   "outputs": [
    {
     "data": {
      "image/png": "[encoded data removed]",
      "text/plain": [
       "<Figure size 360x216 with 1 Axes>"
      ]
     },
     "metadata": {
      "needs_background": "light"
     },
     "output_type": "display_data"
    }
   ],
   "source": [
    "#Diagrama de caja: reviews_per_month.\n",
    "fig1 = plt.figure(figsize =(5, 3))\n",
    "plt.boxplot(data3[\"reviews_per_month\"]) #boxplot() usa iqr\n",
    "plt.title(\"reviews_per_month outliers\")\n",
    "plt.show() #diagrama para visualizar outliers\n",
    "#No se considera que los outliers perjudiquen el análisis"
   ]
  },
  {
   "cell_type": "markdown",
   "metadata": {},
   "source": [
    "Exportar .csv"
   ]
  },
  {
   "cell_type": "code",
   "execution_count": null,
   "metadata": {},
   "outputs": [],
   "source": [
    "#Data limpia\n",
    "#Convertir DataFrame limpio a CSV\n",
    "clean_airbnb=data3.copy()\n",
    "clean_airbnb\n",
    "clean_airbnb.to_csv(\"clean_airbnb_bra.csv\")"
   ]
  },
  {
   "cell_type": "markdown",
   "metadata": {},
   "source": [
    "Filtros por tipo de habitación"
   ]
  },
  {
   "cell_type": "code",
   "execution_count": null,
   "metadata": {},
   "outputs": [],
   "source": [
    "entire_home_apt_bra = data3[(data3[\"room_type\"] == \"Entire home/apt\")]\n",
    "entire_home_apt_bra.to_csv(\"Entire home apt_bra.csv\")"
   ]
  },
  {
   "cell_type": "code",
   "execution_count": null,
   "metadata": {},
   "outputs": [],
   "source": [
    "hotel_room_bra = data3[(data3[\"room_type\"] == \"Hotel room\")]\n",
    "hotel_room_bra.to_csv(\"Hotel room_bra.csv\")"
   ]
  },
  {
   "cell_type": "code",
   "execution_count": null,
   "metadata": {},
   "outputs": [],
   "source": [
    "priv_room_bra = data3[(data3[\"room_type\"] == \"Private room\")]\n",
    "priv_room_bra.to_csv(\"Private room_bra.csv\")"
   ]
  },
  {
   "cell_type": "code",
   "execution_count": null,
   "metadata": {},
   "outputs": [],
   "source": [
    "shared_room_bra = data3[(data3[\"room_type\"] == \"Shared room\")]\n",
    "shared_room_bra.to_csv(\"Shared room_bra.csv\")"
   ]
  }
 ],
 "metadata": {
  "kernelspec": {
   "display_name": "Python 3.10.7 64-bit (microsoft store)",
   "language": "python",
   "name": "python3"
  },
  "language_info": {
   "codemirror_mode": {
    "name": "ipython",
    "version": 3
   },
   "file_extension": ".py",
   "mimetype": "text/x-python",
   "name": "python",
   "nbconvert_exporter": "python",
   "pygments_lexer": "ipython3",
   "version": "3.10.7"
  },
  "orig_nbformat": 4,
  "vscode": {
   "interpreter": {
    "hash": "8bdb6cfb01423875b53bbdacac8cafabfbfae2881293bc8f69e02add7339e574"
   }
  }
 },
 "nbformat": 4,
 "nbformat_minor": 2
}
