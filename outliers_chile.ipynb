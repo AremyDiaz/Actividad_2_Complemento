{
 "cells": [
  {
   "cell_type": "code",
   "execution_count": 1,
   "metadata": {},
   "outputs": [
    {
     "data": {
      "text/html": [
       "        <script type=\"text/javascript\">\n",
       "        window.PlotlyConfig = {MathJaxConfig: 'local'};\n",
       "        if (window.MathJax && window.MathJax.Hub && window.MathJax.Hub.Config) {window.MathJax.Hub.Config({SVG: {font: \"STIX-Web\"}});}\n",
       "        if (typeof require !== 'undefined') {\n",
       "        require.undef(\"plotly\");\n",
       "        requirejs.config({\n",
       "            paths: {\n",
       "                'plotly': ['https://cdn.plot.ly/plotly-2.14.0.min']\n",
       "            }\n",
       "        });\n",
       "        require(['plotly'], function(Plotly) {\n",
       "            window._Plotly = Plotly;\n",
       "        });\n",
       "        }\n",
       "        </script>\n",
       "        "
      ]
     },
     "metadata": {},
     "output_type": "display_data"
    }
   ],
   "source": [
    "#Importamos las librerías que utilizaremos en nuestro proyecto \n",
    "import pandas as pd\n",
    "import numpy as np\n",
    "import matplotlib.pyplot as plt\n",
    "import cufflinks as cf\n",
    "from IPython.display import display,HTML\n",
    "import seaborn as sns"
   ]
  },
  {
   "cell_type": "code",
   "execution_count": 3,
   "metadata": {},
   "outputs": [
    {
     "data": {
      "text/html": [
       "<div>\n",
       "<style scoped>\n",
       "    .dataframe tbody tr th:only-of-type {\n",
       "        vertical-align: middle;\n",
       "    }\n",
       "\n",
       "    .dataframe tbody tr th {\n",
       "        vertical-align: top;\n",
       "    }\n",
       "\n",
       "    .dataframe thead th {\n",
       "        text-align: right;\n",
       "    }\n",
       "</style>\n",
       "<table border=\"1\" class=\"dataframe\">\n",
       "  <thead>\n",
       "    <tr style=\"text-align: right;\">\n",
       "      <th></th>\n",
       "      <th>ID</th>\n",
       "      <th>host_response_time</th>\n",
       "      <th>host_response_rate</th>\n",
       "      <th>host_acceptance_rate</th>\n",
       "      <th>hosTrue_is_superhost</th>\n",
       "      <th>host_has_profile_pic</th>\n",
       "      <th>host_identity_verified</th>\n",
       "      <th>host_listings_count</th>\n",
       "      <th>neighbourhood_cleansed</th>\n",
       "      <th>latitude</th>\n",
       "      <th>...</th>\n",
       "      <th>review_scores_rating</th>\n",
       "      <th>review_scores_accuracy</th>\n",
       "      <th>review_scores_cleanliness</th>\n",
       "      <th>review_scores_checkin</th>\n",
       "      <th>review_scores_communication</th>\n",
       "      <th>review_scores_location</th>\n",
       "      <th>review_scores_value</th>\n",
       "      <th>instant_bookable</th>\n",
       "      <th>calculated_host_listings_count</th>\n",
       "      <th>reviews_per_month</th>\n",
       "    </tr>\n",
       "  </thead>\n",
       "  <tbody>\n",
       "    <tr>\n",
       "      <th>0</th>\n",
       "      <td>1.024440e+05</td>\n",
       "      <td>Unknown</td>\n",
       "      <td>0.0</td>\n",
       "      <td>0.00</td>\n",
       "      <td>False</td>\n",
       "      <td>True</td>\n",
       "      <td>False</td>\n",
       "      <td>1</td>\n",
       "      <td>La Florida</td>\n",
       "      <td>-33.559810</td>\n",
       "      <td>...</td>\n",
       "      <td>4.5</td>\n",
       "      <td>4.7</td>\n",
       "      <td>4.6</td>\n",
       "      <td>4.8</td>\n",
       "      <td>4.8</td>\n",
       "      <td>4.8</td>\n",
       "      <td>4.6</td>\n",
       "      <td>False</td>\n",
       "      <td>1</td>\n",
       "      <td>0.00</td>\n",
       "    </tr>\n",
       "    <tr>\n",
       "      <th>1</th>\n",
       "      <td>4.939200e+04</td>\n",
       "      <td>within a day</td>\n",
       "      <td>0.5</td>\n",
       "      <td>0.00</td>\n",
       "      <td>False</td>\n",
       "      <td>True</td>\n",
       "      <td>True</td>\n",
       "      <td>3</td>\n",
       "      <td>Providencia</td>\n",
       "      <td>-33.432660</td>\n",
       "      <td>...</td>\n",
       "      <td>4.5</td>\n",
       "      <td>4.7</td>\n",
       "      <td>4.6</td>\n",
       "      <td>4.8</td>\n",
       "      <td>4.8</td>\n",
       "      <td>4.8</td>\n",
       "      <td>4.6</td>\n",
       "      <td>True</td>\n",
       "      <td>2</td>\n",
       "      <td>0.00</td>\n",
       "    </tr>\n",
       "    <tr>\n",
       "      <th>2</th>\n",
       "      <td>2.422572e+07</td>\n",
       "      <td>a few days or more</td>\n",
       "      <td>0.0</td>\n",
       "      <td>0.00</td>\n",
       "      <td>False</td>\n",
       "      <td>True</td>\n",
       "      <td>False</td>\n",
       "      <td>1</td>\n",
       "      <td>Quilicura</td>\n",
       "      <td>-33.303190</td>\n",
       "      <td>...</td>\n",
       "      <td>4.5</td>\n",
       "      <td>4.7</td>\n",
       "      <td>4.6</td>\n",
       "      <td>4.8</td>\n",
       "      <td>4.8</td>\n",
       "      <td>4.8</td>\n",
       "      <td>4.6</td>\n",
       "      <td>True</td>\n",
       "      <td>1</td>\n",
       "      <td>0.00</td>\n",
       "    </tr>\n",
       "    <tr>\n",
       "      <th>3</th>\n",
       "      <td>2.535240e+07</td>\n",
       "      <td>Unknown</td>\n",
       "      <td>0.0</td>\n",
       "      <td>0.00</td>\n",
       "      <td>False</td>\n",
       "      <td>True</td>\n",
       "      <td>False</td>\n",
       "      <td>1</td>\n",
       "      <td>La Pintana</td>\n",
       "      <td>-33.596220</td>\n",
       "      <td>...</td>\n",
       "      <td>4.5</td>\n",
       "      <td>4.7</td>\n",
       "      <td>4.6</td>\n",
       "      <td>4.8</td>\n",
       "      <td>4.8</td>\n",
       "      <td>4.8</td>\n",
       "      <td>4.6</td>\n",
       "      <td>True</td>\n",
       "      <td>1</td>\n",
       "      <td>0.00</td>\n",
       "    </tr>\n",
       "    <tr>\n",
       "      <th>4</th>\n",
       "      <td>3.330526e+07</td>\n",
       "      <td>within a day</td>\n",
       "      <td>0.6</td>\n",
       "      <td>0.33</td>\n",
       "      <td>False</td>\n",
       "      <td>True</td>\n",
       "      <td>False</td>\n",
       "      <td>1</td>\n",
       "      <td>La Florida</td>\n",
       "      <td>-33.563270</td>\n",
       "      <td>...</td>\n",
       "      <td>5.0</td>\n",
       "      <td>5.0</td>\n",
       "      <td>5.0</td>\n",
       "      <td>5.0</td>\n",
       "      <td>5.0</td>\n",
       "      <td>5.0</td>\n",
       "      <td>5.0</td>\n",
       "      <td>True</td>\n",
       "      <td>1</td>\n",
       "      <td>0.03</td>\n",
       "    </tr>\n",
       "    <tr>\n",
       "      <th>...</th>\n",
       "      <td>...</td>\n",
       "      <td>...</td>\n",
       "      <td>...</td>\n",
       "      <td>...</td>\n",
       "      <td>...</td>\n",
       "      <td>...</td>\n",
       "      <td>...</td>\n",
       "      <td>...</td>\n",
       "      <td>...</td>\n",
       "      <td>...</td>\n",
       "      <td>...</td>\n",
       "      <td>...</td>\n",
       "      <td>...</td>\n",
       "      <td>...</td>\n",
       "      <td>...</td>\n",
       "      <td>...</td>\n",
       "      <td>...</td>\n",
       "      <td>...</td>\n",
       "      <td>...</td>\n",
       "      <td>...</td>\n",
       "      <td>...</td>\n",
       "    </tr>\n",
       "    <tr>\n",
       "      <th>8154</th>\n",
       "      <td>6.500360e+17</td>\n",
       "      <td>within a few hours</td>\n",
       "      <td>1.0</td>\n",
       "      <td>0.97</td>\n",
       "      <td>False</td>\n",
       "      <td>True</td>\n",
       "      <td>False</td>\n",
       "      <td>1</td>\n",
       "      <td>Santiago</td>\n",
       "      <td>-33.452345</td>\n",
       "      <td>...</td>\n",
       "      <td>4.5</td>\n",
       "      <td>4.7</td>\n",
       "      <td>4.6</td>\n",
       "      <td>4.8</td>\n",
       "      <td>4.8</td>\n",
       "      <td>4.8</td>\n",
       "      <td>4.6</td>\n",
       "      <td>True</td>\n",
       "      <td>1</td>\n",
       "      <td>0.00</td>\n",
       "    </tr>\n",
       "    <tr>\n",
       "      <th>8155</th>\n",
       "      <td>6.501450e+17</td>\n",
       "      <td>within an hour</td>\n",
       "      <td>0.9</td>\n",
       "      <td>0.93</td>\n",
       "      <td>False</td>\n",
       "      <td>True</td>\n",
       "      <td>True</td>\n",
       "      <td>1</td>\n",
       "      <td>Santiago</td>\n",
       "      <td>-33.437970</td>\n",
       "      <td>...</td>\n",
       "      <td>4.5</td>\n",
       "      <td>4.7</td>\n",
       "      <td>4.6</td>\n",
       "      <td>4.8</td>\n",
       "      <td>4.8</td>\n",
       "      <td>4.8</td>\n",
       "      <td>4.6</td>\n",
       "      <td>True</td>\n",
       "      <td>9</td>\n",
       "      <td>0.00</td>\n",
       "    </tr>\n",
       "    <tr>\n",
       "      <th>8156</th>\n",
       "      <td>6.504620e+17</td>\n",
       "      <td>within a few hours</td>\n",
       "      <td>0.6</td>\n",
       "      <td>1.00</td>\n",
       "      <td>False</td>\n",
       "      <td>True</td>\n",
       "      <td>False</td>\n",
       "      <td>0</td>\n",
       "      <td>Macul</td>\n",
       "      <td>-33.477360</td>\n",
       "      <td>...</td>\n",
       "      <td>4.5</td>\n",
       "      <td>4.7</td>\n",
       "      <td>4.6</td>\n",
       "      <td>4.8</td>\n",
       "      <td>4.8</td>\n",
       "      <td>4.8</td>\n",
       "      <td>4.6</td>\n",
       "      <td>True</td>\n",
       "      <td>2</td>\n",
       "      <td>0.00</td>\n",
       "    </tr>\n",
       "    <tr>\n",
       "      <th>8157</th>\n",
       "      <td>6.505440e+17</td>\n",
       "      <td>within an hour</td>\n",
       "      <td>1.0</td>\n",
       "      <td>0.78</td>\n",
       "      <td>False</td>\n",
       "      <td>False</td>\n",
       "      <td>True</td>\n",
       "      <td>0</td>\n",
       "      <td>San Miguel</td>\n",
       "      <td>-33.504680</td>\n",
       "      <td>...</td>\n",
       "      <td>4.5</td>\n",
       "      <td>4.7</td>\n",
       "      <td>4.6</td>\n",
       "      <td>4.8</td>\n",
       "      <td>4.8</td>\n",
       "      <td>4.8</td>\n",
       "      <td>4.6</td>\n",
       "      <td>True</td>\n",
       "      <td>2</td>\n",
       "      <td>0.00</td>\n",
       "    </tr>\n",
       "    <tr>\n",
       "      <th>8158</th>\n",
       "      <td>6.505540e+17</td>\n",
       "      <td>within an hour</td>\n",
       "      <td>1.0</td>\n",
       "      <td>0.94</td>\n",
       "      <td>False</td>\n",
       "      <td>True</td>\n",
       "      <td>True</td>\n",
       "      <td>6</td>\n",
       "      <td>Santiago</td>\n",
       "      <td>-33.440000</td>\n",
       "      <td>...</td>\n",
       "      <td>4.5</td>\n",
       "      <td>4.7</td>\n",
       "      <td>4.6</td>\n",
       "      <td>4.8</td>\n",
       "      <td>4.8</td>\n",
       "      <td>4.8</td>\n",
       "      <td>4.6</td>\n",
       "      <td>True</td>\n",
       "      <td>6</td>\n",
       "      <td>0.00</td>\n",
       "    </tr>\n",
       "  </tbody>\n",
       "</table>\n",
       "<p>8159 rows × 32 columns</p>\n",
       "</div>"
      ],
      "text/plain": [
       "                ID  host_response_time  host_response_rate  \\\n",
       "0     1.024440e+05             Unknown                 0.0   \n",
       "1     4.939200e+04        within a day                 0.5   \n",
       "2     2.422572e+07  a few days or more                 0.0   \n",
       "3     2.535240e+07             Unknown                 0.0   \n",
       "4     3.330526e+07        within a day                 0.6   \n",
       "...            ...                 ...                 ...   \n",
       "8154  6.500360e+17  within a few hours                 1.0   \n",
       "8155  6.501450e+17      within an hour                 0.9   \n",
       "8156  6.504620e+17  within a few hours                 0.6   \n",
       "8157  6.505440e+17      within an hour                 1.0   \n",
       "8158  6.505540e+17      within an hour                 1.0   \n",
       "\n",
       "      host_acceptance_rate  hosTrue_is_superhost  host_has_profile_pic  \\\n",
       "0                     0.00                 False                  True   \n",
       "1                     0.00                 False                  True   \n",
       "2                     0.00                 False                  True   \n",
       "3                     0.00                 False                  True   \n",
       "4                     0.33                 False                  True   \n",
       "...                    ...                   ...                   ...   \n",
       "8154                  0.97                 False                  True   \n",
       "8155                  0.93                 False                  True   \n",
       "8156                  1.00                 False                  True   \n",
       "8157                  0.78                 False                 False   \n",
       "8158                  0.94                 False                  True   \n",
       "\n",
       "      host_identity_verified  host_listings_count neighbourhood_cleansed  \\\n",
       "0                      False                    1             La Florida   \n",
       "1                       True                    3            Providencia   \n",
       "2                      False                    1              Quilicura   \n",
       "3                      False                    1             La Pintana   \n",
       "4                      False                    1             La Florida   \n",
       "...                      ...                  ...                    ...   \n",
       "8154                   False                    1               Santiago   \n",
       "8155                    True                    1               Santiago   \n",
       "8156                   False                    0                  Macul   \n",
       "8157                    True                    0             San Miguel   \n",
       "8158                    True                    6               Santiago   \n",
       "\n",
       "       latitude  ...  review_scores_rating review_scores_accuracy  \\\n",
       "0    -33.559810  ...                   4.5                    4.7   \n",
       "1    -33.432660  ...                   4.5                    4.7   \n",
       "2    -33.303190  ...                   4.5                    4.7   \n",
       "3    -33.596220  ...                   4.5                    4.7   \n",
       "4    -33.563270  ...                   5.0                    5.0   \n",
       "...         ...  ...                   ...                    ...   \n",
       "8154 -33.452345  ...                   4.5                    4.7   \n",
       "8155 -33.437970  ...                   4.5                    4.7   \n",
       "8156 -33.477360  ...                   4.5                    4.7   \n",
       "8157 -33.504680  ...                   4.5                    4.7   \n",
       "8158 -33.440000  ...                   4.5                    4.7   \n",
       "\n",
       "      review_scores_cleanliness  review_scores_checkin  \\\n",
       "0                           4.6                    4.8   \n",
       "1                           4.6                    4.8   \n",
       "2                           4.6                    4.8   \n",
       "3                           4.6                    4.8   \n",
       "4                           5.0                    5.0   \n",
       "...                         ...                    ...   \n",
       "8154                        4.6                    4.8   \n",
       "8155                        4.6                    4.8   \n",
       "8156                        4.6                    4.8   \n",
       "8157                        4.6                    4.8   \n",
       "8158                        4.6                    4.8   \n",
       "\n",
       "      review_scores_communication  review_scores_location  \\\n",
       "0                             4.8                     4.8   \n",
       "1                             4.8                     4.8   \n",
       "2                             4.8                     4.8   \n",
       "3                             4.8                     4.8   \n",
       "4                             5.0                     5.0   \n",
       "...                           ...                     ...   \n",
       "8154                          4.8                     4.8   \n",
       "8155                          4.8                     4.8   \n",
       "8156                          4.8                     4.8   \n",
       "8157                          4.8                     4.8   \n",
       "8158                          4.8                     4.8   \n",
       "\n",
       "      review_scores_value  instant_bookable  calculated_host_listings_count  \\\n",
       "0                     4.6             False                               1   \n",
       "1                     4.6              True                               2   \n",
       "2                     4.6              True                               1   \n",
       "3                     4.6              True                               1   \n",
       "4                     5.0              True                               1   \n",
       "...                   ...               ...                             ...   \n",
       "8154                  4.6              True                               1   \n",
       "8155                  4.6              True                               9   \n",
       "8156                  4.6              True                               2   \n",
       "8157                  4.6              True                               2   \n",
       "8158                  4.6              True                               6   \n",
       "\n",
       "      reviews_per_month  \n",
       "0                  0.00  \n",
       "1                  0.00  \n",
       "2                  0.00  \n",
       "3                  0.00  \n",
       "4                  0.03  \n",
       "...                 ...  \n",
       "8154               0.00  \n",
       "8155               0.00  \n",
       "8156               0.00  \n",
       "8157               0.00  \n",
       "8158               0.00  \n",
       "\n",
       "[8159 rows x 32 columns]"
      ]
     },
     "execution_count": 3,
     "metadata": {},
     "output_type": "execute_result"
    }
   ],
   "source": [
    "#Se carga df\n",
    "chile_out = pd.read_csv(\"Chile_no_null.csv\")\n",
    "chile_out"
   ]
  },
  {
   "cell_type": "markdown",
   "metadata": {},
   "source": [
    "### Análisis gráfico de nulos"
   ]
  },
  {
   "cell_type": "markdown",
   "metadata": {},
   "source": [
    "#### host_listings_count"
   ]
  },
  {
   "cell_type": "code",
   "execution_count": 5,
   "metadata": {},
   "outputs": [
    {
     "data": {
      "image/png": "[encoded data removed]",
      "text/plain": [
       "<Figure size 1080x576 with 1 Axes>"
      ]
     },
     "metadata": {
      "needs_background": "light"
     },
     "output_type": "display_data"
    }
   ],
   "source": [
    "fig = plt.figure(figsize =(15, 8))\n",
    "chile_out[\"host_listings_count\"].plot(kind='box')\n",
    "plt.title(\"Boxplot de host_listings_count\")\n",
    "plt.show() "
   ]
  },
  {
   "cell_type": "code",
   "execution_count": 16,
   "metadata": {},
   "outputs": [
    {
     "name": "stdout",
     "output_type": "stream",
     "text": [
      "Limite superior permitido 59.20619336001185\n",
      "Limite inferior permitido -43.44004554777996\n"
     ]
    }
   ],
   "source": [
    "#Identificación de límites: método de desviación\n",
    "h1=chile_out[\"host_listings_count\"]\n",
    "LS1= h1.mean() + .5*h1.std()\n",
    "LI1= h1.mean() - .5*h1.std()\n",
    "print(\"Limite superior permitido\", LS1)\n",
    "print(\"Limite inferior permitido\", LI1)"
   ]
  },
  {
   "cell_type": "code",
   "execution_count": 17,
   "metadata": {},
   "outputs": [],
   "source": [
    "#Sustituimos los outliers con el valor de la moda \n",
    "host_out = chile_out.loc[chile_out['host_listings_count']< 59.206, 'host_listings_count'].mode()\n",
    "chile_out[\"host_listings_count\"] = np.where(chile_out[\"host_listings_count\"] >59.206,host_out ,chile_out['host_listings_count'])"
   ]
  },
  {
   "cell_type": "code",
   "execution_count": null,
   "metadata": {},
   "outputs": [],
   "source": [
    "#Comprobamos\n",
    "fig = plt.figure(figsize =(15, 8))\n",
    "chile_out[\"host_listings_count\"].plot(kind='box')\n",
    "plt.title(\"Boxplot de host_listings_count\")\n",
    "plt.show() "
   ]
  },
  {
   "cell_type": "markdown",
   "metadata": {},
   "source": [
    "#### bathrooms_text"
   ]
  },
  {
   "cell_type": "code",
   "execution_count": 21,
   "metadata": {},
   "outputs": [
    {
     "data": {
      "image/png": "[encoded data removed]",
      "text/plain": [
       "<Figure size 1080x576 with 1 Axes>"
      ]
     },
     "metadata": {
      "needs_background": "light"
     },
     "output_type": "display_data"
    }
   ],
   "source": [
    "#Análisis gráfico\n",
    "fig = plt.figure(figsize =(15, 8))\n",
    "chile_out[\"bathrooms_text\"].plot(kind='box')\n",
    "plt.title(\"Boxplot de bathrooms_text\")\n",
    "plt.show() "
   ]
  },
  {
   "cell_type": "code",
   "execution_count": 29,
   "metadata": {},
   "outputs": [
    {
     "name": "stdout",
     "output_type": "stream",
     "text": [
      "Limite superior permitido 10.661510320620206\n",
      "Limite inferior permitido -7.9673075996985245\n"
     ]
    }
   ],
   "source": [
    "#Identificación de límites: método de desviación\n",
    "b1=chile_out[\"bathrooms_text\"]\n",
    "LS2= b1.mean() + 13*b1.std()\n",
    "LI2= b1.mean() - 13*b1.std()\n",
    "print(\"Limite superior permitido\", LS2)\n",
    "print(\"Limite inferior permitido\", LI2)"
   ]
  },
  {
   "cell_type": "code",
   "execution_count": 32,
   "metadata": {},
   "outputs": [],
   "source": [
    "#Sustituimos los outliers con el valor de la mediana \n",
    "bath_out = chile_out.loc[chile_out['bathrooms_text']< 10, 'bathrooms_text'].median()\n",
    "chile_out[\"bathrooms_text\"] = np.where(chile_out[\"bathrooms_text\"] > 10,bath_out ,chile_out['host_listings_count'])"
   ]
  },
  {
   "cell_type": "code",
   "execution_count": 33,
   "metadata": {},
   "outputs": [
    {
     "data": {
      "image/png": "[encoded data removed]",
      "text/plain": [
       "<Figure size 1080x576 with 1 Axes>"
      ]
     },
     "metadata": {
      "needs_background": "light"
     },
     "output_type": "display_data"
    }
   ],
   "source": [
    "#Análisis gráfico\n",
    "fig = plt.figure(figsize =(15, 8))\n",
    "chile_out[\"bathrooms_text\"].plot(kind='box')\n",
    "plt.title(\"Boxplot de bathrooms_text\")\n",
    "plt.show() "
   ]
  },
  {
   "cell_type": "markdown",
   "metadata": {},
   "source": [
    "### bedrooms "
   ]
  },
  {
   "cell_type": "code",
   "execution_count": 34,
   "metadata": {},
   "outputs": [
    {
     "data": {
      "image/png": "[encoded data removed]",
      "text/plain": [
       "<Figure size 1080x576 with 1 Axes>"
      ]
     },
     "metadata": {
      "needs_background": "light"
     },
     "output_type": "display_data"
    }
   ],
   "source": [
    "#Análisis gráfico bedrooms\n",
    "fig = plt.figure(figsize =(15, 8))\n",
    "chile_out[\"bedrooms\"].plot(kind='box')\n",
    "plt.title(\"Boxplot de bebdrooms\")\n",
    "plt.show() "
   ]
  },
  {
   "cell_type": "code",
   "execution_count": 38,
   "metadata": {},
   "outputs": [
    {
     "name": "stdout",
     "output_type": "stream",
     "text": [
      "Limite superior permitido 4.142223629647882\n",
      "Limite inferior permitido -1.280843558560739\n"
     ]
    }
   ],
   "source": [
    "#Identificación de límites: método de desviación\n",
    "bedroom=chile_out[\"bedrooms\"]\n",
    "LS3= bedroom.mean() + 3*bedroom.std()\n",
    "LI3= bedroom.mean() - 3*bedroom.std()\n",
    "print(\"Limite superior permitido\", LS3)\n",
    "print(\"Limite inferior permitido\", LI3)"
   ]
  },
  {
   "cell_type": "code",
   "execution_count": 41,
   "metadata": {},
   "outputs": [],
   "source": [
    "#Sustituimos los outliers con el valor de la mediana \n",
    "#Utilizaremos 15 cuartos como límite superior \n",
    "bed_out = chile_out.loc[chile_out['bedrooms']< 15, 'bedrooms'].median()\n",
    "chile_out[\"bedrooms\"] = np.where(chile_out[\"bedrooms\"] > 15,bed_out ,chile_out['bedrooms'])"
   ]
  },
  {
   "cell_type": "code",
   "execution_count": 43,
   "metadata": {},
   "outputs": [
    {
     "data": {
      "image/png": "[encoded data removed]",
      "text/plain": [
       "<Figure size 1080x576 with 1 Axes>"
      ]
     },
     "metadata": {
      "needs_background": "light"
     },
     "output_type": "display_data"
    }
   ],
   "source": [
    "#Análisis comprobación bedrooms \n",
    "fig = plt.figure(figsize =(15, 8))\n",
    "chile_out[\"bedrooms\"].plot(kind='box')\n",
    "plt.title(\"Boxplot de bebdrooms\")\n",
    "plt.show() "
   ]
  }
 ],
 "metadata": {
  "kernelspec": {
   "display_name": "Python 3.10.6 64-bit",
   "language": "python",
   "name": "python3"
  },
  "language_info": {
   "codemirror_mode": {
    "name": "ipython",
    "version": 3
   },
   "file_extension": ".py",
   "mimetype": "text/x-python",
   "name": "python",
   "nbconvert_exporter": "python",
   "pygments_lexer": "ipython3",
   "version": "3.10.6"
  },
  "orig_nbformat": 4,
  "vscode": {
   "interpreter": {
    "hash": "11a32da29e01205a8970d64bc3d9d944de9781f6310edf4d79f8b59a916b61f2"
   }
  }
 },
 "nbformat": 4,
 "nbformat_minor": 2
}
